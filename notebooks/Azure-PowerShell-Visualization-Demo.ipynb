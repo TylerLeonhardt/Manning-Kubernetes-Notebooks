{
 "cells": [
  {
   "cell_type": "markdown",
   "metadata": {
    "slideshow": {
     "slide_type": "slide"
    }
   },
   "source": [
    "# Azure PowerShell Visualization demo  <img src=\"https://raw.githubusercontent.com/PowerShell/PowerShell/master/assets/Powershell_black_64.png\" align=\"right\"/>\n",
    "> A Notebook mixing Azure PowerShell and Plotly"
   ]
  },
  {
   "cell_type": "markdown",
   "metadata": {
    "slideshow": {
     "slide_type": "slide"
    }
   },
   "source": [
    "## Prerequisites\n",
    "\n",
    "### Install required modules\n",
    "\n",
    "You'll need to install `Az.Compute`, `Az.Resources` and `Az.Monitor` for this Notebook."
   ]
  },
  {
   "cell_type": "code",
   "execution_count": null,
   "metadata": {
    "slideshow": {
     "slide_type": "fragment"
    }
   },
   "outputs": [],
   "source": [
    "Install-Module Az.Compute,Az.Resources,Az.Monitor -Force"
   ]
  },
  {
   "cell_type": "markdown",
   "metadata": {
    "slideshow": {
     "slide_type": "slide"
    }
   },
   "source": [
    "### Authenticate and set context\n",
    "\n",
    "First connect to your Azure account."
   ]
  },
  {
   "cell_type": "code",
   "execution_count": null,
   "metadata": {
    "slideshow": {
     "slide_type": "fragment"
    }
   },
   "outputs": [],
   "source": [
    "Connect-AzAccount"
   ]
  },
  {
   "cell_type": "markdown",
   "metadata": {
    "slideshow": {
     "slide_type": "subslide"
    }
   },
   "source": [
    "**(Optional)** If your account contains more than one active subscription the first one will be selected for further use. To select another subscription, use Set-AzContext."
   ]
  },
  {
   "cell_type": "code",
   "execution_count": null,
   "metadata": {
    "slideshow": {
     "slide_type": "fragment"
    }
   },
   "outputs": [],
   "source": [
    "Set-AzContext -Subscription \"My Subscription\""
   ]
  },
  {
   "cell_type": "markdown",
   "metadata": {
    "slideshow": {
     "slide_type": "slide"
    }
   },
   "source": [
    "### (Optional) Populate Azure with test VMs\n",
    "\n",
    "Here's a script that will create a number of VMs. Feel free to change the value at the top.\n",
    "\n",
    "> NOTE: This can take a LONG time."
   ]
  },
  {
   "cell_type": "code",
   "execution_count": null,
   "metadata": {
    "slideshow": {
     "slide_type": "fragment"
    }
   },
   "outputs": [],
   "source": [
    "# IMPORTANT VARIABLES\n",
    "$RESOURCE_GROUP_NAME = 'VMVisDemo'\n",
    "$LOCATION = 'East US 2'\n",
    "$NUM_OF_VMs = 10\n",
    "$USER_CREDENTIAL = Get-Credential"
   ]
  },
  {
   "cell_type": "code",
   "execution_count": null,
   "metadata": {
    "slideshow": {
     "slide_type": "subslide"
    }
   },
   "outputs": [],
   "source": [
    "Write-Host \"Creting resource group.\"\n",
    "New-AzResourceGroup -Name $RESOURCE_GROUP_NAME -Location $LOCATION | Out-Null\n",
    "\n",
    "Write-Host \"Creting VMs.\"\n",
    "$jobs = 1..$NUM_OF_VMs | ForEach-Object {\n",
    "    $splat = @{\n",
    "        Image = \"UbuntuLTS\"\n",
    "        Location = $LOCATION\n",
    "        Name = \"MyVM-$_\"\n",
    "        ResourceGroupName = $RESOURCE_GROUP_NAME\n",
    "        Credential = $USER_CREDENTIAL\n",
    "        AsJob = $true\n",
    "    }\n",
    "    New-AzVM @splat\n",
    "}\n",
    "\n",
    "# Wait for them to all be created\n",
    "Wait-Job $jobs | Out-Null\n",
    "\"Done!\""
   ]
  },
  {
   "cell_type": "markdown",
   "metadata": {
    "slideshow": {
     "slide_type": "slide"
    }
   },
   "source": [
    "Now we need to randomly stop a number of them so that the graph below has some variance."
   ]
  },
  {
   "cell_type": "code",
   "execution_count": null,
   "metadata": {
    "slideshow": {
     "slide_type": "fragment"
    }
   },
   "outputs": [],
   "source": [
    "$numOfVMsToStop = Get-Random -Minimum 2 -Maximum $NUM_OF_VMs\n",
    "Write-Host \"Randomly stoping $numOfVMsToStop VMs.\"\n",
    "\n",
    "$vms = Get-AzVM -ResourceGroupName $RESOURCE_GROUP_NAME\n",
    "$jobs = for ($i = 0; $i -lt $numOfVMsToStop; $i++) {\n",
    "    $vms | Get-Random | Stop-AzVM -Force -AsJob\n",
    "}\n",
    "\n",
    "Wait-Job $jobs | Out-Null\n",
    "\n",
    "Write-Host \"Done!\""
   ]
  },
  {
   "cell_type": "markdown",
   "metadata": {
    "slideshow": {
     "slide_type": "slide"
    }
   },
   "source": [
    "**Cleanup** - If you wanna clean up these test VMs. Run this:\n",
    "\n",
    "> NOTE: This can take a LONG time."
   ]
  },
  {
   "cell_type": "code",
   "execution_count": null,
   "metadata": {
    "slideshow": {
     "slide_type": "fragment"
    }
   },
   "outputs": [],
   "source": [
    "Write-Host \"Deleting VMs.\"\n",
    "$jobs = Get-AzVM -ResourceGroupName $RESOURCE_GROUP_NAME | Remove-AzVM -AsJob -Force\n",
    "Wait-Job $jobs | Out-Null\n",
    "\n",
    "Write-Host \"Deleting resource group.\"\n",
    "Remove-AzResourceGroup -ResourceGroupName $RESOURCE_GROUP_NAME -Force | Out-Null\n",
    "\n",
    "Write-Host \"Done!\""
   ]
  },
  {
   "cell_type": "markdown",
   "metadata": {
    "slideshow": {
     "slide_type": "slide"
    }
   },
   "source": [
    "## Demo 1 - Pie Chart of VM PowerState\n",
    "\n",
    "We'll be fetching the \"PowerState\" of each of our VMs in Azure and plotting it on a pie chart.\n",
    "\n",
    "First, let's get the data:"
   ]
  },
  {
   "cell_type": "code",
   "execution_count": null,
   "metadata": {
    "slideshow": {
     "slide_type": "fragment"
    }
   },
   "outputs": [],
   "source": [
    "$vms = Get-AzVM -Status\n",
    "$data = $vms.PowerState\n",
    "\n",
    "$groupedData = $data | Group-Object\n",
    "$groupedData"
   ]
  },
  {
   "cell_type": "markdown",
   "metadata": {
    "slideshow": {
     "slide_type": "slide"
    }
   },
   "source": [
    "Now we can render that data into a Pie graph and plot it in a chart:"
   ]
  },
  {
   "cell_type": "code",
   "execution_count": null,
   "metadata": {
    "slideshow": {
     "slide_type": "fragment"
    }
   },
   "outputs": [],
   "source": [
    "$trace = [Graph.Pie]@{\n",
    "    name = \"VM PowerState\"\n",
    "    labels = $groupedData.Name\n",
    "    values = [int[]]($groupedData | % Count)\n",
    "}\n",
    "\n",
    "New-PlotlyChart -Title \"VM Status\" -Trace $trace | Out-Display"
   ]
  },
  {
   "cell_type": "markdown",
   "metadata": {
    "slideshow": {
     "slide_type": "slide"
    }
   },
   "source": [
    "## Demo 2 - Plotting Azure Monitor logs\n",
    "\n",
    "We'll be fetching the Azure Monitor logs and plotting.\n",
    "\n",
    "First, let's get the data:"
   ]
  },
  {
   "cell_type": "code",
   "execution_count": null,
   "metadata": {
    "slideshow": {
     "slide_type": "fragment"
    }
   },
   "outputs": [],
   "source": [
    "$logs = Get-AzLog -MaxRecord 1000"
   ]
  },
  {
   "cell_type": "markdown",
   "metadata": {
    "slideshow": {
     "slide_type": "slide"
    }
   },
   "source": [
    "### Plot events per resource group\n",
    "\n",
    "Now let's plot the data:"
   ]
  },
  {
   "cell_type": "code",
   "execution_count": null,
   "metadata": {
    "slideshow": {
     "slide_type": "fragment"
    }
   },
   "outputs": [],
   "source": [
    "$entryByRGN = [Graph.Histogram]@{\n",
    "    name = \"ResourceGroup\"\n",
    "    x = $logs.ResourceGroupName\n",
    "}\n",
    "\n",
    "$entryByRGN | New-PlotlyChart -Title \"Events per ResourceGroup\" | Out-Display"
   ]
  },
  {
   "cell_type": "markdown",
   "metadata": {
    "slideshow": {
     "slide_type": "slide"
    }
   },
   "source": [
    "### Plot events over time\n",
    "\n",
    "We can continue to reuse the `$logs` variable and plot something else:"
   ]
  },
  {
   "cell_type": "code",
   "execution_count": null,
   "metadata": {
    "slideshow": {
     "slide_type": "fragment"
    }
   },
   "outputs": [],
   "source": [
    "$eventsOverTime = [Graph.Histogram]@{\n",
    "    name = \"Events\"\n",
    "    x = $logs.EventTimestamp\n",
    "    marker = [Graph.Marker]@{\n",
    "        color = \"coral\"\n",
    "    }\n",
    "}\n",
    "\n",
    "$eventsOverTime | New-PlotlyChart -Title \"Events over time\" | Out-Display"
   ]
  },
  {
   "cell_type": "code",
   "execution_count": null,
   "metadata": {},
   "outputs": [],
   "source": []
  }
 ],
 "metadata": {
  "celltoolbar": "Slideshow",
  "kernelspec": {
   "display_name": ".NET (PowerShell)",
   "language": "PowerShell",
   "name": ".net-powershell"
  },
  "language_info": {
   "file_extension": ".ps1",
   "mimetype": "text/x-powershell",
   "name": "PowerShell",
   "pygments_lexer": "powershell",
   "version": "7.0"
  }
 },
 "nbformat": 4,
 "nbformat_minor": 4
}
