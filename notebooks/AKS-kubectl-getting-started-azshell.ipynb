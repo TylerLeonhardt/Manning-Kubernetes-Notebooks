{
    "metadata": {
        "kernelspec": {
            "name": ".net-powershell",
            "display_name": ".NET (PowerShell)"
        },
        "language_info": {
            "name": "PowerShell",
            "version": "7.0",
            "mimetype": "text/x-powershell",
            "file_extension": ".ps1",
            "pygments_lexer": "powershell"
        },
        "nteract": {
            "version": "0.23.3"
        }
    },
    "nbformat_minor": 2,
    "nbformat": 4,
    "cells": [
        {
            "cell_type": "markdown",
            "source": [
                "# Managing an Azure Kubernetes Service cluster from Cloud Shell Getting started\n",
                "\n",
                "This document will go through the steps of troubleshooting an AKS cluser by using .NET Interactive's AzShell integration.\n",
                "This integration gives you a Notebook experience while also proving a consistant environment (Azure Cloud Shell) behind the scenes.\n",
                "\n",
                "\n",
                "First off, we have to enter AzShell mode for this Notebook. To do this, simply run the following, and follow the device auth prompt:"
            ],
            "metadata": {
                "azdata_cell_guid": "4fa32b9f-1e8b-4fba-a285-dd2a08359c2a"
            }
        },
        {
            "cell_type": "code",
            "source": [
                "Enter-AzShell"
            ],
            "metadata": {
                "execution": {
                    "iopub.status.busy": "2020-06-14T03:58:18.493Z",
                    "iopub.execute_input": "2020-06-14T03:58:18.508Z",
                    "iopub.status.idle": "2020-06-14T03:59:40.060Z"
                },
                "azdata_cell_guid": "c30a4993-8cd1-40d9-b449-c450c29a842e",
                "tags": [
                    "hide_input"
                ]
            },
            "outputs": [],
            "execution_count": null
        },
        {
            "cell_type": "markdown",
            "source": [
                "*In case you doubt we're in Cloud Shell, let's prove it:*"
            ],
            "metadata": {
                "azdata_cell_guid": "ed488dfe-4392-4b15-88fe-5255d82bfd33"
            }
        },
        {
            "cell_type": "code",
            "source": [
                "# Version info\n",
                "uname -a\n",
                "\n",
                "# kubectl is already available\n",
                "kubectl version"
            ],
            "metadata": {
                "collapsed": true,
                "jupyter": {
                    "source_hidden": false,
                    "outputs_hidden": false
                },
                "nteract": {
                    "transient": {
                        "deleting": false
                    }
                },
                "execution": {
                    "iopub.status.busy": "2020-06-14T04:01:03.040Z",
                    "iopub.execute_input": "2020-06-14T04:01:03.044Z",
                    "iopub.status.idle": "2020-06-14T04:01:03.058Z"
                },
                "azdata_cell_guid": "af93a626-1076-4fc0-a0c9-48df94ada7b9",
                "tags": []
            },
            "outputs": [],
            "execution_count": null
        },
        {
            "cell_type": "markdown",
            "source": [
                "## Setting up kubectl to use an AKS cluser\n",
                "\n",
                "Now that we're in Cloud Shell, since we're already authenticated and our tools are readily available, we now need to set up `kubectl` to work with our AKS cluser. This is very simple using the `Az.Aks` PowerShell module that already comes available in Azure Cloud Shell:\n",
                "\n",
                "> NOTE: You'll also notice that you can _create_ AKS clusters using `Az.Aks` using the `New-AzAks` command. For more info, run `Get-Help -Examples New-AzAks`"
            ],
            "metadata": {
                "azdata_cell_guid": "438345df-1ecd-47c9-8674-785fba156a1b"
            }
        },
        {
            "cell_type": "code",
            "source": [
                "gcm -Module Az.Aks"
            ],
            "metadata": {
                "collapsed": true,
                "jupyter": {
                    "source_hidden": false,
                    "outputs_hidden": false
                },
                "nteract": {
                    "transient": {
                        "deleting": false
                    }
                },
                "execution": {
                    "iopub.status.busy": "2020-06-14T04:01:57.566Z",
                    "iopub.execute_input": "2020-06-14T04:01:57.570Z",
                    "iopub.status.idle": "2020-06-14T04:01:57.680Z"
                },
                "azdata_cell_guid": "95bd5273-e493-4018-979b-a7f754cc388f",
                "tags": [
                    "hide_input"
                ]
            },
            "outputs": [],
            "execution_count": null
        },
        {
            "cell_type": "markdown",
            "source": [
                "### Switch to the Azure Subscription that contains the AKS Cluster"
            ],
            "metadata": {
                "azdata_cell_guid": "5a24167a-83e3-4481-a7d9-35913297cc78"
            }
        },
        {
            "cell_type": "code",
            "source": [
                "Set-AzContext -SubscriptionName 'Oaas-SubLib-013' "
            ],
            "metadata": {
                "collapsed": true,
                "jupyter": {
                    "source_hidden": false,
                    "outputs_hidden": false
                },
                "nteract": {
                    "transient": {
                        "deleting": false
                    }
                },
                "execution": {
                    "iopub.status.busy": "2020-06-14T04:04:16.484Z",
                    "iopub.execute_input": "2020-06-14T04:04:16.488Z",
                    "iopub.status.idle": "2020-06-14T04:04:19.277Z"
                },
                "azdata_cell_guid": "52c36ddc-16ae-4908-bcf0-d976c8b3b804",
                "tags": [
                    "hide_input"
                ]
            },
            "outputs": [],
            "execution_count": null
        },
        {
            "cell_type": "markdown",
            "source": [
                "You can see all of your AKS clusers by running this:"
            ],
            "metadata": {
                "azdata_cell_guid": "0daad231-f8b4-40a9-b29b-9b7a822c1b70"
            }
        },
        {
            "cell_type": "code",
            "source": [
                "Get-AzAks | select Name,Location"
            ],
            "metadata": {
                "collapsed": true,
                "jupyter": {
                    "source_hidden": false,
                    "outputs_hidden": false
                },
                "nteract": {
                    "transient": {
                        "deleting": false
                    }
                },
                "execution": {
                    "iopub.status.busy": "2020-06-14T04:04:32.136Z",
                    "iopub.execute_input": "2020-06-14T04:04:32.139Z",
                    "iopub.status.idle": "2020-06-14T04:04:33.861Z"
                },
                "azdata_cell_guid": "977e0b16-dd91-46de-844c-5551712dd332",
                "tags": []
            },
            "outputs": [],
            "execution_count": null
        },
        {
            "cell_type": "markdown",
            "source": [
                "### Import the AKS creds into kubectl\n",
                "\n",
                "The last step in getting `kubectl` working with your AKS cluser is to run:\n",
                "\n",
                "> NOTE: The force is needed in the Cloud Shell Notebook experience but it's not needed in the regular Notebook experience"
            ],
            "metadata": {
                "azdata_cell_guid": "f58080e3-ef6a-498e-a05e-1c7fda4ff6e2"
            }
        },
        {
            "cell_type": "code",
            "source": [
                "Import-AzAksCredential -ResourceGroupName manning-test-aks -Name manning-test-aks -Force"
            ],
            "metadata": {
                "collapsed": true,
                "jupyter": {
                    "source_hidden": false,
                    "outputs_hidden": false
                },
                "nteract": {
                    "transient": {
                        "deleting": false
                    }
                },
                "execution": {
                    "iopub.status.busy": "2020-06-14T04:06:47.863Z",
                    "iopub.execute_input": "2020-06-14T04:06:47.867Z",
                    "iopub.status.idle": "2020-06-14T04:06:48.526Z"
                },
                "azdata_cell_guid": "7c866334-2e2b-4e23-aa91-167ecc9a55fe",
                "tags": [
                    "hide_input"
                ]
            },
            "outputs": [],
            "execution_count": null
        },
        {
            "cell_type": "code",
            "source": [
                "kubectl version"
            ],
            "metadata": {
                "collapsed": true,
                "jupyter": {
                    "source_hidden": false,
                    "outputs_hidden": false
                },
                "nteract": {
                    "transient": {
                        "deleting": false
                    }
                },
                "azdata_cell_guid": "ad7046c2-3e9a-45c5-b5c5-64dad2a1c6e6",
                "tags": []
            },
            "outputs": [],
            "execution_count": null
        },
        {
            "cell_type": "code",
            "source": [
                "kubectl apply -f https://k8s.io/examples/application/nginx-with-request.yaml\n",
                "\n",
                "kubectl get pods"
            ],
            "metadata": {
                "azdata_cell_guid": "9ced854e-09a1-499d-9aed-2169d4c0fb88"
            },
            "outputs": [],
            "execution_count": null
        },
        {
            "cell_type": "markdown",
            "source": [
                "We can exit the Cloud Shell session now and join again in the next Notebook:"
            ],
            "metadata": {
                "azdata_cell_guid": "25c4c7e8-c537-464f-9c1a-b619216b2592"
            }
        },
        {
            "cell_type": "code",
            "source": [
                "exit"
            ],
            "metadata": {
                "azdata_cell_guid": "c7886f54-78fd-4e28-bf9f-34c731a36804"
            },
            "outputs": [],
            "execution_count": null
        },
        {
            "cell_type": "markdown",
            "source": [
                "Now that we're all set up, let's [try some troubleshooting](./AKS-kubectl-next-steps-azshell.ipynb)."
            ],
            "metadata": {
                "azdata_cell_guid": "d81019ff-9a98-4d5e-81bf-ddc93a255226"
            }
        }
    ]
}