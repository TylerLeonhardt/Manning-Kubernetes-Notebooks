{
    "metadata": {
        "kernelspec": {
            "name": ".net-powershell",
            "display_name": ".NET (PowerShell)"
        },
        "language_info": {
            "name": "PowerShell",
            "version": "7.0",
            "mimetype": "text/x-powershell",
            "file_extension": ".ps1",
            "pygments_lexer": "powershell"
        }
    },
    "nbformat_minor": 2,
    "nbformat": 4,
    "cells": [
        {
            "cell_type": "markdown",
            "source": [
                "# Managing an Azure Kubernetes Service cluster from Cloud Shell\n",
                "\n",
                "So we set up our AKS cluser, let's go ahead and run the import setup code from the last notbook and then do some troubleshooting work."
            ],
            "metadata": {
                "azdata_cell_guid": "8c65cc58-e38b-4f3a-9d1a-6e280d82cf28"
            }
        },
        {
            "cell_type": "code",
            "source": [
                "Enter-AzShell"
            ],
            "metadata": {
                "azdata_cell_guid": "76cf85ea-e340-4558-b2db-10e8314b45b5"
            },
            "outputs": [],
            "execution_count": null
        },
        {
            "cell_type": "code",
            "source": [
                "Set-AzContext -SubscriptionName 'Oaas-SubLib-013' | Out-Null\n",
                "Import-AzAksCredential -ResourceGroupName manning-test-aks -Name manning-test-aks -Force"
            ],
            "metadata": {
                "azdata_cell_guid": "44ad708b-609f-4671-bdde-7476c67c6bba"
            },
            "outputs": [],
            "execution_count": null
        },
        {
            "cell_type": "markdown",
            "source": [
                "## Kubernetes Troubleshooting\n",
                "\n",
                "> NOTE: This text was shamelessly stolen from [this set of docs by a Microsoft engineer](https://github.com/feiskyer/kubernetes-handbook/blob/master/en/troubleshooting/index.md).\n",
                "\n",
                "This part introduces how to troubleshoot various problems on Kubernetes, includes\n",
                "\n",
                "- [Troubleshooting Clusters](cluster.md)\n",
                "- [Troubleshooting Pods](pod.md)\n",
                "- [Troubleshooting Networking](network.md)\n",
                "- [Troubleshooting Persistent Volumes](pv.md)\n",
                "  - [AzureDisk](azuredisk.md)\n",
                "  - [AzureFile](azurefile.md)\n",
                "- [Troubleshooting Windows Containers](windows.md)\n",
                "- [Troubleshooting Cloud Provider](cloud.md)\n",
                "  - [Azure](azure.md)\n",
                "- [Tools for Troubleshooting](tools.md)\n",
                "\n",
                "Remember `kubectl` is always the most important tool when starting to troubleshoot any problems.\n",
                "\n",
                "### Listing Nodes"
            ],
            "metadata": {
                "azdata_cell_guid": "7f20f8dd-0034-4911-a686-087e2ac17ffe"
            }
        },
        {
            "cell_type": "code",
            "source": [
                "kubectl get nodes\n",
                "\n",
                "$nodename = kubectl get nodes -o=jsonpath='{.items[0].metadata.name}'\n",
                "kubectl describe node $nodename"
            ],
            "metadata": {
                "azdata_cell_guid": "f8dbbce8-093d-4c26-ba08-a18bda5f5a1b"
            },
            "outputs": [],
            "execution_count": null
        },
        {
            "cell_type": "markdown",
            "source": [
                "### Listing Pods"
            ],
            "metadata": {
                "azdata_cell_guid": "140edd3a-1e96-46e5-89b6-2d34359c3fe7"
            }
        },
        {
            "cell_type": "code",
            "source": [
                "kubectl get pods -o wide\n",
                "kubectl -n kube-system get pods -o wide"
            ],
            "metadata": {
                "azdata_cell_guid": "cb6eafb7-9ec0-49bd-9991-e0a64dc5f2f2"
            },
            "outputs": [],
            "execution_count": null
        },
        {
            "cell_type": "markdown",
            "source": [
                "### Looking at Pod events"
            ],
            "metadata": {
                "azdata_cell_guid": "56946ad6-ca55-4998-9aed-a4993e0c8e20"
            }
        },
        {
            "cell_type": "code",
            "source": [
                "$podname = kubectl get pods -o=jsonpath='{.items[0].metadata.name}'\n",
                "kubectl describe pod $podname"
            ],
            "metadata": {
                "azdata_cell_guid": "638eaedc-3116-44e9-af79-b69971cae183"
            },
            "outputs": [],
            "execution_count": null
        },
        {
            "cell_type": "markdown",
            "source": [
                "### Looking at kube-apiserver logs"
            ],
            "metadata": {
                "azdata_cell_guid": "d7d8857f-dcef-4dd1-8471-8687b553012d"
            }
        },
        {
            "cell_type": "code",
            "source": [
                "# Looking at kube-apiserver logs\n",
                "$apiserverPodname = kubectl -n kube-system get pod -l component=kube-apiserver -o jsonpath='{.items[0].metadata.name}'\n",
                "if ($apiserverPodname) {\n",
                "    kubectl -n kube-system logs $apiserverPodname --tail 100\n",
                "}\n",
                "\n",
                "# Looking at kube-controller-manager logs\n",
                "$controllerPodname = kubectl -n kube-system get pod -l component=kube-controller-manager -o jsonpath='{.items[0].metadata.name}'\n",
                "if ($controllerPodname) {\n",
                "    kubectl -n kube-system logs $controllerPodname --tail 100\n",
                "}\n",
                "\n",
                "# Looking at kube-scheduler logs\n",
                "$schedulerPodname = kubectl -n kube-system get pod -l component=kube-scheduler -o jsonpath='{.items[0].metadata.name}'\n",
                "if ($schedulerPodname) {\n",
                "    kubectl -n kube-system logs $schedulerPodname --tail 100\n",
                "}\n",
                "\n",
                "# Looking at kube-dns logs\n",
                "$dnsPodname = kubectl -n kube-system get pod -l k8s-app=kube-dns -o jsonpath='{.items[0].metadata.name}'\n",
                "if ($dnsPodname) {\n",
                "    kubectl -n kube-system logs $dnsPodname -c kubedns\n",
                "}\n",
                ""
            ],
            "metadata": {
                "azdata_cell_guid": "66879867-8bec-4160-adf3-b881389e4264",
                "tags": []
            },
            "outputs": [],
            "execution_count": null
        },
        {
            "cell_type": "markdown",
            "source": [
                "### Looking at kube-proxy logs"
            ],
            "metadata": {
                "azdata_cell_guid": "56031de8-e32c-49ec-80d8-d587f8873fbc"
            }
        },
        {
            "cell_type": "code",
            "source": [
                "kubectl -n kube-system get pod -l component=kube-proxy\n",
                "\n",
                "$podname = kubectl -n kube-system get pod -l component=kube-proxy -o=jsonpath='{.items[0].metadata.name}'\n",
                "kubectl -n kube-system logs $podname"
            ],
            "metadata": {
                "azdata_cell_guid": "98818e19-dd2a-4b4a-8f65-77bf83c631d9",
                "tags": []
            },
            "outputs": [],
            "execution_count": null
        }
    ]
}