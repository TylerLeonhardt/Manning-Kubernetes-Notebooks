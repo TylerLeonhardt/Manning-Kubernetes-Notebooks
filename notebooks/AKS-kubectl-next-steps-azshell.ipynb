{
    "metadata": {
        "kernelspec": {
            "name": ".net-powershell",
            "display_name": ".NET (PowerShell)"
        },
        "language_info": {
            "name": "PowerShell",
            "version": "7.0",
            "mimetype": "text/x-powershell",
            "file_extension": ".ps1",
            "pygments_lexer": "powershell"
        }
    },
    "nbformat_minor": 2,
    "nbformat": 4,
    "cells": [
        {
            "cell_type": "markdown",
            "source": [
                "# Managing an Azure Kubernetes Service cluster from Cloud Shell\n",
                "\n",
                "So we set up our AKS cluser, let's go ahead and run the import setup code from the last notbook and then do some troubleshooting work."
            ],
            "metadata": {
                "azdata_cell_guid": "8c65cc58-e38b-4f3a-9d1a-6e280d82cf28"
            }
        },
        {
            "cell_type": "code",
            "source": [
                "Enter-AzShell"
            ],
            "metadata": {
                "azdata_cell_guid": "76cf85ea-e340-4558-b2db-10e8314b45b5"
            },
            "outputs": [],
            "execution_count": null
        },
        {
            "cell_type": "code",
            "source": [
                "Set-AzContext -SubscriptionName 'Oaas-SubLib-013' | Out-Null\n",
                "Import-AzAksCredential -ResourceGroupName manning-test-aks -Name manning-test-aks -Force"
            ],
            "metadata": {
                "azdata_cell_guid": "44ad708b-609f-4671-bdde-7476c67c6bba"
            },
            "outputs": [
                {
                    "output_type": "stream",
                    "name": "stdout",
                    "text": "Set-AzContext -SubscriptionName 'Oaas-SubLib-013' | Out-Null\r\n"
                },
                {
                    "output_type": "stream",
                    "name": "stdout",
                    "text": "Import-AzAksCredential -ResourceGroupName manning-test-aks -Name manning-test-aks -Force\r\n"
                },
                {
                    "output_type": "stream",
                    "name": "stdout",
                    "text": "\r\n"
                }
            ],
            "execution_count": 2
        },
        {
            "cell_type": "markdown",
            "source": [
                "## Kubernetes Troubleshooting\n",
                "\n",
                "> NOTE: This text was shamelessly stolen from [this set of docs by a Microsoft engineer](https://github.com/feiskyer/kubernetes-handbook/blob/master/en/troubleshooting/index.md).\n",
                "\n",
                "This part introduces how to troubleshoot various problems on Kubernetes, includes\n",
                "\n",
                "- [Troubleshooting Clusters](cluster.md)\n",
                "- [Troubleshooting Pods](pod.md)\n",
                "- [Troubleshooting Networking](network.md)\n",
                "- [Troubleshooting Persistent Volumes](pv.md)\n",
                "  - [AzureDisk](azuredisk.md)\n",
                "  - [AzureFile](azurefile.md)\n",
                "- [Troubleshooting Windows Containers](windows.md)\n",
                "- [Troubleshooting Cloud Provider](cloud.md)\n",
                "  - [Azure](azure.md)\n",
                "- [Tools for Troubleshooting](tools.md)\n",
                "\n",
                "Remember `kubectl` is always the most important tool when starting to troubleshoot any problems.\n",
                "\n",
                "### Listing Nodes"
            ],
            "metadata": {
                "azdata_cell_guid": "7f20f8dd-0034-4911-a686-087e2ac17ffe"
            }
        },
        {
            "cell_type": "code",
            "source": [
                "kubectl get nodes\n",
                "\n",
                "$nodename = kubectl get nodes -o=jsonpath='{.items[0].metadata.name}'\n",
                "kubectl describe node $nodename"
            ],
            "metadata": {
                "azdata_cell_guid": "f8dbbce8-093d-4c26-ba08-a18bda5f5a1b"
            },
            "outputs": [
                {
                    "output_type": "stream",
                    "name": "stdout",
                    "text": "kubectl get nodes\r\n"
                },
                {
                    "output_type": "stream",
                    "name": "stdout",
                    "text": "NAME                                STATUS   ROLES   AGE   VERSION\r\n"
                },
                {
                    "output_type": "stream",
                    "name": "stdout",
                    "text": "aks-agentpool-22729220-vmss000000   Ready    agent   61m   v1.15.11\r\n"
                },
                {
                    "output_type": "stream",
                    "name": "stdout",
                    "text": "aks-agentpool-22729220-vmss000001   Ready    agent   60m   v1.15.11\r\n"
                },
                {
                    "output_type": "stream",
                    "name": "stdout",
                    "text": "aks-agentpool-22729220-vmss000002   Ready    agent   60m   v1.15.11\r\n"
                },
                {
                    "output_type": "stream",
                    "name": "stdout",
                    "text": "\r\n"
                },
                {
                    "output_type": "stream",
                    "name": "stdout",
                    "text": "$nodename = kubectl get nodes -o=jsonpath='{.items[0].metadata.name}'\r\n"
                },
                {
                    "output_type": "stream",
                    "name": "stdout",
                    "text": "kubectl describe node $nodename\r\n"
                },
                {
                    "output_type": "stream",
                    "name": "stdout",
                    "text": "Name:               aks-agentpool-22729220-vmss000000\r\n"
                },
                {
                    "output_type": "stream",
                    "name": "stdout",
                    "text": "Roles:              agent\r\n"
                },
                {
                    "output_type": "stream",
                    "name": "stdout",
                    "text": "Labels:             agentpool=agentpool\r\n"
                },
                {
                    "output_type": "stream",
                    "name": "stdout",
                    "text": "                    beta.kubernetes.io/arch=amd64\r\n"
                },
                {
                    "output_type": "stream",
                    "name": "stdout",
                    "text": "                    beta.kubernetes.io/instance-type=Standard_B2s\r\n"
                },
                {
                    "output_type": "stream",
                    "name": "stdout",
                    "text": "                    beta.kubernetes.io/os=linux\r\n"
                },
                {
                    "output_type": "stream",
                    "name": "stdout",
                    "text": "                    failure-domain.beta.kubernetes.io/region=eastus2\r\n"
                },
                {
                    "output_type": "stream",
                    "name": "stdout",
                    "text": "                    failure-domain.beta.kubernetes.io/zone=0\r\n"
                },
                {
                    "output_type": "stream",
                    "name": "stdout",
                    "text": "                    kubernetes.azure.com/cluster=MC_manning-test-aks_manning-test-aks_eastus2\r\n"
                },
                {
                    "output_type": "stream",
                    "name": "stdout",
                    "text": "                    kubernetes.azure.com/mode=system\r\n"
                },
                {
                    "output_type": "stream",
                    "name": "stdout",
                    "text": "                    kubernetes.azure.com/role=agent\r\n"
                },
                {
                    "output_type": "stream",
                    "name": "stdout",
                    "text": "                    kubernetes.io/arch=amd64\r\n"
                },
                {
                    "output_type": "stream",
                    "name": "stdout",
                    "text": "                    kubernetes.io/hostname=aks-agentpool-22729220-vmss000000\r\n"
                },
                {
                    "output_type": "stream",
                    "name": "stdout",
                    "text": "                    kubernetes.io/os=linux\r\n"
                },
                {
                    "output_type": "stream",
                    "name": "stdout",
                    "text": "                    kubernetes.io/role=agent\r\n"
                },
                {
                    "output_type": "stream",
                    "name": "stdout",
                    "text": "                    node-role.kubernetes.io/agent=\r\n"
                },
                {
                    "output_type": "stream",
                    "name": "stdout",
                    "text": "                    storageprofile=managed\r\n"
                },
                {
                    "output_type": "stream",
                    "name": "stdout",
                    "text": "                    storagetier=Premium_LRS\r\n"
                },
                {
                    "output_type": "stream",
                    "name": "stdout",
                    "text": "Annotations:        node.alpha.kubernetes.io/ttl: 0\r\n"
                },
                {
                    "output_type": "stream",
                    "name": "stdout",
                    "text": "                    volumes.kubernetes.io/controller-managed-attach-detach: true\r\n"
                },
                {
                    "output_type": "stream",
                    "name": "stdout",
                    "text": "CreationTimestamp:  Sun, 14 Jun 2020 04:00:21 +0000\r\n"
                },
                {
                    "output_type": "stream",
                    "name": "stdout",
                    "text": "Taints:             <none>\r\n"
                },
                {
                    "output_type": "stream",
                    "name": "stdout",
                    "text": "Unschedulable:      false\r\n"
                },
                {
                    "output_type": "stream",
                    "name": "stdout",
                    "text": "Conditions:\r\n"
                },
                {
                    "output_type": "stream",
                    "name": "stdout",
                    "text": "  Type                 Status  LastHeartbeatTime                 LastTransitionTime                Reason                       Message\r\n"
                },
                {
                    "output_type": "stream",
                    "name": "stdout",
                    "text": "  ----                 ------  -----------------                 ------------------                ------                       -------\r\n"
                },
                {
                    "output_type": "stream",
                    "name": "stdout",
                    "text": "  NetworkUnavailable   False   Sun, 14 Jun 2020 04:00:59 +0000   Sun, 14 Jun 2020 04:00:59 +0000   RouteCreated                 RouteController created a route\r\n"
                },
                {
                    "output_type": "stream",
                    "name": "stdout",
                    "text": "  MemoryPressure       False   Sun, 14 Jun 2020 05:00:30 +0000   Sun, 14 Jun 2020 04:00:21 +0000   KubeletHasSufficientMemory   kubelet has sufficient memory available\r\n"
                },
                {
                    "output_type": "stream",
                    "name": "stdout",
                    "text": "  DiskPressure         False   Sun, 14 Jun 2020 05:00:30 +0000   Sun, 14 Jun 2020 04:00:21 +0000   KubeletHasNoDiskPressure     kubelet has no disk pressure\r\n"
                },
                {
                    "output_type": "stream",
                    "name": "stdout",
                    "text": "  PIDPressure          False   Sun, 14 Jun 2020 05:00:30 +0000   Sun, 14 Jun 2020 04:00:21 +0000   KubeletHasSufficientPID      kubelet has sufficient PID available\r\n"
                },
                {
                    "output_type": "stream",
                    "name": "stdout",
                    "text": "  Ready                True    Sun, 14 Jun 2020 05:00:30 +0000   Sun, 14 Jun 2020 04:00:21 +0000   KubeletReady                 kubelet is posting ready status. AppArmor enabled\r\n"
                },
                {
                    "output_type": "stream",
                    "name": "stdout",
                    "text": "Addresses:\r\n"
                },
                {
                    "output_type": "stream",
                    "name": "stdout",
                    "text": "  Hostname:    aks-agentpool-22729220-vmss000000\r\n"
                },
                {
                    "output_type": "stream",
                    "name": "stdout",
                    "text": "  InternalIP:  10.240.0.4\r\n"
                },
                {
                    "output_type": "stream",
                    "name": "stdout",
                    "text": "Capacity:\r\n"
                },
                {
                    "output_type": "stream",
                    "name": "stdout",
                    "text": " attachable-volumes-azure-disk:  4\r\n"
                },
                {
                    "output_type": "stream",
                    "name": "stdout",
                    "text": " cpu:                            2\r\n"
                },
                {
                    "output_type": "stream",
                    "name": "stdout",
                    "text": " ephemeral-storage:              129901008Ki\r\n"
                },
                {
                    "output_type": "stream",
                    "name": "stdout",
                    "text": " hugepages-1Gi:                  0\r\n"
                },
                {
                    "output_type": "stream",
                    "name": "stdout",
                    "text": " hugepages-2Mi:                  0\r\n"
                },
                {
                    "output_type": "stream",
                    "name": "stdout",
                    "text": " memory:                         4017080Ki\r\n"
                },
                {
                    "output_type": "stream",
                    "name": "stdout",
                    "text": " pods:                           110\r\n"
                },
                {
                    "output_type": "stream",
                    "name": "stdout",
                    "text": "Allocatable:\r\n"
                },
                {
                    "output_type": "stream",
                    "name": "stdout",
                    "text": " attachable-volumes-azure-disk:  4\r\n"
                },
                {
                    "output_type": "stream",
                    "name": "stdout",
                    "text": " cpu:                            1900m\r\n"
                },
                {
                    "output_type": "stream",
                    "name": "stdout",
                    "text": " ephemeral-storage:              119716768775\r\n"
                },
                {
                    "output_type": "stream",
                    "name": "stdout",
                    "text": " hugepages-1Gi:                  0\r\n"
                },
                {
                    "output_type": "stream",
                    "name": "stdout",
                    "text": " hugepages-2Mi:                  0\r\n"
                },
                {
                    "output_type": "stream",
                    "name": "stdout",
                    "text": " memory:                         2200504Ki\r\n"
                },
                {
                    "output_type": "stream",
                    "name": "stdout",
                    "text": " pods:                           110\r\n"
                },
                {
                    "output_type": "stream",
                    "name": "stdout",
                    "text": "System Info:\r\n"
                },
                {
                    "output_type": "stream",
                    "name": "stdout",
                    "text": " Machine ID:                 5e21632aa70d4ca28787ccf1fe68f3b7\r\n"
                },
                {
                    "output_type": "stream",
                    "name": "stdout",
                    "text": " System UUID:                7DCE9CCA-D215-1143-84F5-389D3EA02284\r\n"
                },
                {
                    "output_type": "stream",
                    "name": "stdout",
                    "text": " Boot ID:                    0ee72dcb-787e-413b-ac96-1c9d1e050d49\r\n"
                },
                {
                    "output_type": "stream",
                    "name": "stdout",
                    "text": " Kernel Version:             4.15.0-1083-azure\r\n"
                },
                {
                    "output_type": "stream",
                    "name": "stdout",
                    "text": " OS Image:                   Ubuntu 16.04.6 LTS\r\n"
                },
                {
                    "output_type": "stream",
                    "name": "stdout",
                    "text": " Operating System:           linux\r\n"
                },
                {
                    "output_type": "stream",
                    "name": "stdout",
                    "text": " Architecture:               amd64\r\n"
                },
                {
                    "output_type": "stream",
                    "name": "stdout",
                    "text": " Container Runtime Version:  docker://3.0.10+azure\r\n"
                },
                {
                    "output_type": "stream",
                    "name": "stdout",
                    "text": " Kubelet Version:            v1.15.11\r\n"
                },
                {
                    "output_type": "stream",
                    "name": "stdout",
                    "text": " Kube-Proxy Version:         v1.15.11\r\n"
                },
                {
                    "output_type": "stream",
                    "name": "stdout",
                    "text": "PodCIDR:                     10.244.0.0/24\r\n"
                },
                {
                    "output_type": "stream",
                    "name": "stdout",
                    "text": "ProviderID:                  azure:///subscriptions/5417152a-174b-4748-876a-b4e6628d9eb7/resourceGroups/mc_manning-test-aks_manning-test-aks_eastus2/providers/Microsoft.Compute/virtualMachineScaleSets/aks-agentpool-22729220-vmss/virtualMachines/0\r\n"
                },
                {
                    "output_type": "stream",
                    "name": "stdout",
                    "text": "Non-terminated Pods:         (8 in total)\r\n"
                },
                {
                    "output_type": "stream",
                    "name": "stdout",
                    "text": "  Namespace                  Name                                     CPU Requests  CPU Limits  Memory Requests  Memory Limits  AGE\r\n"
                },
                {
                    "output_type": "stream",
                    "name": "stdout",
                    "text": "  ---------                  ----                                     ------------  ----------  ---------------  -------------  ---\r\n"
                },
                {
                    "output_type": "stream",
                    "name": "stdout",
                    "text": "  kube-system                aks-link-57fc6dfd65-2cvq4                10m (0%)      500m (26%)  128Mi (5%)       128Mi (5%)     62m\r\n"
                },
                {
                    "output_type": "stream",
                    "name": "stdout",
                    "text": "  kube-system                coredns-698c77c5d7-gbdq4                 100m (5%)     0 (0%)      70Mi (3%)        170Mi (7%)     62m\r\n"
                },
                {
                    "output_type": "stream",
                    "name": "stdout",
                    "text": "  kube-system                coredns-autoscaler-5ccb7f6c8f-n9xtl      20m (1%)      0 (0%)      10Mi (0%)        0 (0%)         62m\r\n"
                },
                {
                    "output_type": "stream",
                    "name": "stdout",
                    "text": "  kube-system                kube-proxy-vx5zv                         100m (5%)     0 (0%)      0 (0%)           0 (0%)         61m\r\n"
                },
                {
                    "output_type": "stream",
                    "name": "stdout",
                    "text": "  kube-system                kubernetes-dashboard-74d8c675bc-bb8tc    100m (5%)     100m (5%)   50Mi (2%)        500Mi (23%)    62m\r\n"
                },
                {
                    "output_type": "stream",
                    "name": "stdout",
                    "text": "  kube-system                metrics-server-7d654ddc8b-zph6c          44m (2%)      0 (0%)      55Mi (2%)        0 (0%)         62m\r\n"
                },
                {
                    "output_type": "stream",
                    "name": "stdout",
                    "text": "  kube-system                omsagent-6w9cz                           75m (3%)      150m (7%)   225Mi (10%)      600Mi (27%)    61m\r\n"
                },
                {
                    "output_type": "stream",
                    "name": "stdout",
                    "text": "  kube-system                omsagent-rs-699dbb6cb8-pwr4c             150m (7%)     1 (52%)     250Mi (11%)      750Mi (34%)    62m\r\n"
                },
                {
                    "output_type": "stream",
                    "name": "stdout",
                    "text": "Allocated resources:\r\n"
                },
                {
                    "output_type": "stream",
                    "name": "stdout",
                    "text": "  (Total limits may be over 100 percent, i.e., overcommitted.)\r\n"
                },
                {
                    "output_type": "stream",
                    "name": "stdout",
                    "text": "  Resource                       Requests     Limits\r\n"
                },
                {
                    "output_type": "stream",
                    "name": "stdout",
                    "text": "  --------                       --------     ------\r\n"
                },
                {
                    "output_type": "stream",
                    "name": "stdout",
                    "text": "  cpu                            599m (31%)   1750m (92%)\r\n"
                },
                {
                    "output_type": "stream",
                    "name": "stdout",
                    "text": "  memory                         788Mi (36%)  2148Mi (99%)\r\n"
                },
                {
                    "output_type": "stream",
                    "name": "stdout",
                    "text": "  ephemeral-storage              0 (0%)       0 (0%)\r\n"
                },
                {
                    "output_type": "stream",
                    "name": "stdout",
                    "text": "  attachable-volumes-azure-disk  0            0\r\n"
                },
                {
                    "output_type": "stream",
                    "name": "stdout",
                    "text": "Events:\r\n"
                },
                {
                    "output_type": "stream",
                    "name": "stdout",
                    "text": "  Type    Reason    Age   From                                           Message\r\n"
                },
                {
                    "output_type": "stream",
                    "name": "stdout",
                    "text": "  ----    ------    ----  ----                                           -------\r\n"
                },
                {
                    "output_type": "stream",
                    "name": "stdout",
                    "text": "  Normal  Starting  60m   kube-proxy, aks-agentpool-22729220-vmss000000  Starting kube-proxy.\r\n"
                },
                {
                    "output_type": "stream",
                    "name": "stdout",
                    "text": "\r\n"
                }
            ],
            "execution_count": 16
        },
        {
            "cell_type": "markdown",
            "source": [
                "### Listing Pods"
            ],
            "metadata": {
                "azdata_cell_guid": "140edd3a-1e96-46e5-89b6-2d34359c3fe7"
            }
        },
        {
            "cell_type": "code",
            "source": [
                "kubectl get pods -o wide\n",
                "kubectl -n kube-system get pods -o wide"
            ],
            "metadata": {
                "azdata_cell_guid": "cb6eafb7-9ec0-49bd-9991-e0a64dc5f2f2"
            },
            "outputs": [
                {
                    "output_type": "stream",
                    "name": "stdout",
                    "text": "kubectl get pods -o wide\r\n"
                },
                {
                    "output_type": "stream",
                    "name": "stdout",
                    "text": "NAME                               READY   STATUS    RESTARTS   AGE   IP           NODE                                NOMINATED NODE   READINESS GATES\r\n"
                },
                {
                    "output_type": "stream",
                    "name": "stdout",
                    "text": "nginx-deployment-8df4655b6-c4hgn   1/1     Running   0          60m   10.244.2.3   aks-agentpool-22729220-vmss000001   <none>           <none>\r\n"
                },
                {
                    "output_type": "stream",
                    "name": "stdout",
                    "text": "nginx-deployment-8df4655b6-sxm55   1/1     Running   0          60m   10.244.1.4   aks-agentpool-22729220-vmss000002   <none>           <none>\r\n"
                },
                {
                    "output_type": "stream",
                    "name": "stdout",
                    "text": "kubectl -n kube-system get pods -o wide\r\n"
                },
                {
                    "output_type": "stream",
                    "name": "stdout",
                    "text": "NAME                                    READY   STATUS    RESTARTS   AGE   IP           NODE                                NOMINATED NODE   READINESS GATES\r\n"
                },
                {
                    "output_type": "stream",
                    "name": "stdout",
                    "text": "aks-link-57fc6dfd65-2cvq4               1/1     Running   0          76m   10.244.0.3   aks-agentpool-22729220-vmss000000   <none>           <none>\r\n"
                },
                {
                    "output_type": "stream",
                    "name": "stdout",
                    "text": "coredns-698c77c5d7-gbdq4                1/1     Running   0          76m   10.244.0.5   aks-agentpool-22729220-vmss000000   <none>           <none>\r\n"
                },
                {
                    "output_type": "stream",
                    "name": "stdout",
                    "text": "coredns-698c77c5d7-sb7ll                1/1     Running   0          74m   10.244.1.3   aks-agentpool-22729220-vmss000002   <none>           <none>\r\n"
                },
                {
                    "output_type": "stream",
                    "name": "stdout",
                    "text": "coredns-autoscaler-5ccb7f6c8f-n9xtl     1/1     Running   0          76m   10.244.0.4   aks-agentpool-22729220-vmss000000   <none>           <none>\r\n"
                },
                {
                    "output_type": "stream",
                    "name": "stdout",
                    "text": "kube-proxy-bxbzh                        1/1     Running   0          74m   10.240.0.5   aks-agentpool-22729220-vmss000001   <none>           <none>\r\n"
                },
                {
                    "output_type": "stream",
                    "name": "stdout",
                    "text": "kube-proxy-qv468                        1/1     Running   0          74m   10.240.0.6   aks-agentpool-22729220-vmss000002   <none>           <none>\r\n"
                },
                {
                    "output_type": "stream",
                    "name": "stdout",
                    "text": "kube-proxy-vx5zv                        1/1     Running   0          75m   10.240.0.4   aks-agentpool-22729220-vmss000000   <none>           <none>\r\n"
                },
                {
                    "output_type": "stream",
                    "name": "stdout",
                    "text": "kubernetes-dashboard-74d8c675bc-bb8tc   1/1     Running   0          76m   10.244.0.7   aks-agentpool-22729220-vmss000000   <none>           <none>\r\n"
                },
                {
                    "output_type": "stream",
                    "name": "stdout",
                    "text": "metrics-server-7d654ddc8b-zph6c         1/1     Running   0          76m   10.244.0.8   aks-agentpool-22729220-vmss000000   <none>           <none>\r\n"
                },
                {
                    "output_type": "stream",
                    "name": "stdout",
                    "text": "omsagent-6w9cz                          1/1     Running   0          75m   10.244.0.2   aks-agentpool-22729220-vmss000000   <none>           <none>\r\n"
                },
                {
                    "output_type": "stream",
                    "name": "stdout",
                    "text": "omsagent-hzw5b                          1/1     Running   1          74m   10.244.2.2   aks-agentpool-22729220-vmss000001   <none>           <none>\r\n"
                },
                {
                    "output_type": "stream",
                    "name": "stdout",
                    "text": "omsagent-rs-699dbb6cb8-pwr4c            1/1     Running   0          76m   10.244.0.6   aks-agentpool-22729220-vmss000000   <none>           <none>\r\n"
                },
                {
                    "output_type": "stream",
                    "name": "stdout",
                    "text": "omsagent-t9dc7                          1/1     Running   0          74m   10.244.1.2   aks-agentpool-22729220-vmss000002   <none>           <none>\r\n"
                },
                {
                    "output_type": "stream",
                    "name": "stdout",
                    "text": "\r\n"
                }
            ],
            "execution_count": 25
        },
        {
            "cell_type": "markdown",
            "source": [
                "### Looking at Pod events"
            ],
            "metadata": {
                "azdata_cell_guid": "56946ad6-ca55-4998-9aed-a4993e0c8e20"
            }
        },
        {
            "cell_type": "code",
            "source": [
                "$podname = kubectl get pods -o=jsonpath='{.items[0].metadata.name}'\n",
                "kubectl describe pod $podname"
            ],
            "metadata": {
                "azdata_cell_guid": "638eaedc-3116-44e9-af79-b69971cae183"
            },
            "outputs": [
                {
                    "output_type": "stream",
                    "name": "stdout",
                    "text": "$podname = kubectl get pods -o=jsonpath='{.items[0].metadata.name}'\r\n"
                },
                {
                    "output_type": "stream",
                    "name": "stdout",
                    "text": "kubectl describe pod $podname\r\n"
                },
                {
                    "output_type": "stream",
                    "name": "stdout",
                    "text": "Name:           nginx-deployment-8df4655b6-c4hgn\r\n"
                },
                {
                    "output_type": "stream",
                    "name": "stdout",
                    "text": "Namespace:      default\r\n"
                },
                {
                    "output_type": "stream",
                    "name": "stdout",
                    "text": "Priority:       0\r\n"
                },
                {
                    "output_type": "stream",
                    "name": "stdout",
                    "text": "Node:           aks-agentpool-22729220-vmss000001/10.240.0.5\r\n"
                },
                {
                    "output_type": "stream",
                    "name": "stdout",
                    "text": "Start Time:     Sun, 14 Jun 2020 04:14:49 +0000\r\n"
                },
                {
                    "output_type": "stream",
                    "name": "stdout",
                    "text": "Labels:         app=nginx\r\n"
                },
                {
                    "output_type": "stream",
                    "name": "stdout",
                    "text": "                pod-template-hash=8df4655b6\r\n"
                },
                {
                    "output_type": "stream",
                    "name": "stdout",
                    "text": "Annotations:    <none>\r\n"
                },
                {
                    "output_type": "stream",
                    "name": "stdout",
                    "text": "Status:         Running\r\n"
                },
                {
                    "output_type": "stream",
                    "name": "stdout",
                    "text": "IP:             10.244.2.3\r\n"
                },
                {
                    "output_type": "stream",
                    "name": "stdout",
                    "text": "IPs:            <none>\r\n"
                },
                {
                    "output_type": "stream",
                    "name": "stdout",
                    "text": "Controlled By:  ReplicaSet/nginx-deployment-8df4655b6\r\n"
                },
                {
                    "output_type": "stream",
                    "name": "stdout",
                    "text": "Containers:\r\n"
                },
                {
                    "output_type": "stream",
                    "name": "stdout",
                    "text": "  nginx:\r\n"
                },
                {
                    "output_type": "stream",
                    "name": "stdout",
                    "text": "    Container ID:   docker://4fd1f0928db31f2bee15822ca945bf6c2ba0f793fc88aa46c7d29afd2dfdcd29\r\n"
                },
                {
                    "output_type": "stream",
                    "name": "stdout",
                    "text": "    Image:          nginx\r\n"
                },
                {
                    "output_type": "stream",
                    "name": "stdout",
                    "text": "    Image ID:       docker-pullable://nginx@sha256:21f32f6c08406306d822a0e6e8b7dc81f53f336570e852e25fbe1e3e3d0d0133\r\n"
                },
                {
                    "output_type": "stream",
                    "name": "stdout",
                    "text": "    Port:           80/TCP\r\n"
                },
                {
                    "output_type": "stream",
                    "name": "stdout",
                    "text": "    Host Port:      0/TCP\r\n"
                },
                {
                    "output_type": "stream",
                    "name": "stdout",
                    "text": "    State:          Running\r\n"
                },
                {
                    "output_type": "stream",
                    "name": "stdout",
                    "text": "      Started:      Sun, 14 Jun 2020 04:15:05 +0000\r\n"
                },
                {
                    "output_type": "stream",
                    "name": "stdout",
                    "text": "    Ready:          True\r\n"
                },
                {
                    "output_type": "stream",
                    "name": "stdout",
                    "text": "    Restart Count:  0\r\n"
                },
                {
                    "output_type": "stream",
                    "name": "stdout",
                    "text": "    Limits:\r\n"
                },
                {
                    "output_type": "stream",
                    "name": "stdout",
                    "text": "      cpu:     500m\r\n"
                },
                {
                    "output_type": "stream",
                    "name": "stdout",
                    "text": "      memory:  128Mi\r\n"
                },
                {
                    "output_type": "stream",
                    "name": "stdout",
                    "text": "    Requests:\r\n"
                },
                {
                    "output_type": "stream",
                    "name": "stdout",
                    "text": "      cpu:        500m\r\n"
                },
                {
                    "output_type": "stream",
                    "name": "stdout",
                    "text": "      memory:     128Mi\r\n"
                },
                {
                    "output_type": "stream",
                    "name": "stdout",
                    "text": "    Environment:  <none>\r\n"
                },
                {
                    "output_type": "stream",
                    "name": "stdout",
                    "text": "    Mounts:\r\n"
                },
                {
                    "output_type": "stream",
                    "name": "stdout",
                    "text": "      /var/run/secrets/kubernetes.io/serviceaccount from default-token-sdsw6 (ro)\r\n"
                },
                {
                    "output_type": "stream",
                    "name": "stdout",
                    "text": "Conditions:\r\n"
                },
                {
                    "output_type": "stream",
                    "name": "stdout",
                    "text": "  Type              Status\r\n"
                },
                {
                    "output_type": "stream",
                    "name": "stdout",
                    "text": "  Initialized       True \r\n"
                },
                {
                    "output_type": "stream",
                    "name": "stdout",
                    "text": "  Ready             True \r\n"
                },
                {
                    "output_type": "stream",
                    "name": "stdout",
                    "text": "  ContainersReady   True \r\n"
                },
                {
                    "output_type": "stream",
                    "name": "stdout",
                    "text": "  PodScheduled      True \r\n"
                },
                {
                    "output_type": "stream",
                    "name": "stdout",
                    "text": "Volumes:\r\n"
                },
                {
                    "output_type": "stream",
                    "name": "stdout",
                    "text": "  default-token-sdsw6:\r\n"
                },
                {
                    "output_type": "stream",
                    "name": "stdout",
                    "text": "    Type:        Secret (a volume populated by a Secret)\r\n"
                },
                {
                    "output_type": "stream",
                    "name": "stdout",
                    "text": "    SecretName:  default-token-sdsw6\r\n"
                },
                {
                    "output_type": "stream",
                    "name": "stdout",
                    "text": "    Optional:    false\r\n"
                },
                {
                    "output_type": "stream",
                    "name": "stdout",
                    "text": "QoS Class:       Guaranteed\r\n"
                },
                {
                    "output_type": "stream",
                    "name": "stdout",
                    "text": "Node-Selectors:  <none>\r\n"
                },
                {
                    "output_type": "stream",
                    "name": "stdout",
                    "text": "Tolerations:     node.kubernetes.io/not-ready:NoExecute for 300s\r\n"
                },
                {
                    "output_type": "stream",
                    "name": "stdout",
                    "text": "                 node.kubernetes.io/unreachable:NoExecute for 300s\r\n"
                },
                {
                    "output_type": "stream",
                    "name": "stdout",
                    "text": "Events:\r\n"
                },
                {
                    "output_type": "stream",
                    "name": "stdout",
                    "text": "  Type    Reason     Age   From                                        Message\r\n"
                },
                {
                    "output_type": "stream",
                    "name": "stdout",
                    "text": "  ----    ------     ----  ----                                        -------\r\n"
                },
                {
                    "output_type": "stream",
                    "name": "stdout",
                    "text": "  Normal  Scheduled  49m   default-scheduler                           Successfully assigned default/nginx-deployment-8df4655b6-c4hgn to aks-agentpool-22729220-vmss000001\r\n"
                },
                {
                    "output_type": "stream",
                    "name": "stdout",
                    "text": "  Normal  Pulling    49m   kubelet, aks-agentpool-22729220-vmss000001  Pulling image \"nginx\"\r\n"
                },
                {
                    "output_type": "stream",
                    "name": "stdout",
                    "text": "  Normal  Pulled     49m   kubelet, aks-agentpool-22729220-vmss000001  Successfully pulled image \"nginx\"\r\n"
                },
                {
                    "output_type": "stream",
                    "name": "stdout",
                    "text": "  Normal  Created    48m   kubelet, aks-agentpool-22729220-vmss000001  Created container nginx\r\n"
                },
                {
                    "output_type": "stream",
                    "name": "stdout",
                    "text": "  Normal  Started    48m   kubelet, aks-agentpool-22729220-vmss000001  Started container nginx\r\n"
                },
                {
                    "output_type": "stream",
                    "name": "stdout",
                    "text": "\r\n"
                }
            ],
            "execution_count": 19
        },
        {
            "cell_type": "markdown",
            "source": [
                "### Looking at kube-apiserver logs"
            ],
            "metadata": {
                "azdata_cell_guid": "d7d8857f-dcef-4dd1-8471-8687b553012d"
            }
        },
        {
            "cell_type": "code",
            "source": [
                "# Looking at kube-apiserver logs\n",
                "$apiserverPodname = kubectl -n kube-system get pod -l component=kube-apiserver -o jsonpath='{.items[0].metadata.name}'\n",
                "if ($apiserverPodname) {\n",
                "    kubectl -n kube-system logs $apiserverPodname --tail 100\n",
                "}\n",
                "\n",
                "# Looking at kube-controller-manager logs\n",
                "$controllerPodname = kubectl -n kube-system get pod -l component=kube-controller-manager -o jsonpath='{.items[0].metadata.name}'\n",
                "if ($controllerPodname) {\n",
                "    kubectl -n kube-system logs $controllerPodname --tail 100\n",
                "}\n",
                "\n",
                "# Looking at kube-scheduler logs\n",
                "$schedulerPodname = kubectl -n kube-system get pod -l component=kube-scheduler -o jsonpath='{.items[0].metadata.name}'\n",
                "if ($schedulerPodname) {\n",
                "    kubectl -n kube-system logs $schedulerPodname --tail 100\n",
                "}\n",
                "\n",
                "# Looking at kube-dns logs\n",
                "$dnsPodname = kubectl -n kube-system get pod -l k8s-app=kube-dns -o jsonpath='{.items[0].metadata.name}'\n",
                "if ($dnsPodname) {\n",
                "    kubectl -n kube-system logs $dnsPodname -c kubedns\n",
                "}\n",
                ""
            ],
            "metadata": {
                "azdata_cell_guid": "66879867-8bec-4160-adf3-b881389e4264",
                "tags": []
            },
            "outputs": [
                {
                    "output_type": "stream",
                    "name": "stdout",
                    "text": "$apiserverPodname = kubectl -n kube-system get pod -l component=kube-apiserver -o jsonpath='{.items[0].metadata.name}'\r\n"
                },
                {
                    "output_type": "stream",
                    "name": "stdout",
                    "text": "error: error executing jsonpath \"{.items[0].metadata.name}\": Error executing template: array index out of bounds: index 0, length 0. Printing more information for debugging the template:\r\n"
                },
                {
                    "output_type": "stream",
                    "name": "stdout",
                    "text": "\ttemplate was:\r\n"
                },
                {
                    "output_type": "stream",
                    "name": "stdout",
                    "text": "\t\t{.items[0].metadata.name}\r\n"
                },
                {
                    "output_type": "stream",
                    "name": "stdout",
                    "text": "\tobject given to jsonpath engine was:\r\n"
                },
                {
                    "output_type": "stream",
                    "name": "stdout",
                    "text": "\t\tmap[string]interface {}{\"apiVersion\":\"v1\", \"items\":[]interface {}{}, \"kind\":\"List\", \"metadata\":map[string]interface {}{\"resourceVersion\":\"\", \"selfLink\":\"\"}}\r\n"
                },
                {
                    "output_type": "stream",
                    "name": "stdout",
                    "text": "\r\n"
                },
                {
                    "output_type": "stream",
                    "name": "stdout",
                    "text": "\r\n"
                },
                {
                    "output_type": "stream",
                    "name": "stdout",
                    "text": "if ($apiserverPodname) {\r\n"
                },
                {
                    "output_type": "stream",
                    "name": "stdout",
                    "text": ">>     kubectl -n kube-system logs $apiserverPodname --tail 100\r\n"
                },
                {
                    "output_type": "stream",
                    "name": "stdout",
                    "text": ">> }\r\n"
                },
                {
                    "output_type": "stream",
                    "name": "stdout",
                    "text": ">> \r\n"
                },
                {
                    "output_type": "stream",
                    "name": "stdout",
                    "text": "$controllerPodname = kubectl -n kube-system get pod -l component=kube-controller-manager -o jsonpath='{.items[0].metadata.name}'\r\n"
                },
                {
                    "output_type": "stream",
                    "name": "stdout",
                    "text": "error: error executing jsonpath \"{.items[0].metadata.name}\": Error executing template: array index out of bounds: index 0, length 0. Printing more information for debugging the template:\r\n"
                },
                {
                    "output_type": "stream",
                    "name": "stdout",
                    "text": "\ttemplate was:\r\n"
                },
                {
                    "output_type": "stream",
                    "name": "stdout",
                    "text": "\t\t{.items[0].metadata.name}\r\n"
                },
                {
                    "output_type": "stream",
                    "name": "stdout",
                    "text": "\tobject given to jsonpath engine was:\r\n"
                },
                {
                    "output_type": "stream",
                    "name": "stdout",
                    "text": "\t\tmap[string]interface {}{\"apiVersion\":\"v1\", \"items\":[]interface {}{}, \"kind\":\"List\", \"metadata\":map[string]interface {}{\"resourceVersion\":\"\", \"selfLink\":\"\"}}\r\n"
                },
                {
                    "output_type": "stream",
                    "name": "stdout",
                    "text": "\r\n"
                },
                {
                    "output_type": "stream",
                    "name": "stdout",
                    "text": "\r\n"
                },
                {
                    "output_type": "stream",
                    "name": "stdout",
                    "text": "if ($controllerPodname) {\r\n"
                },
                {
                    "output_type": "stream",
                    "name": "stdout",
                    "text": ">>     kubectl -n kube-system logs $controllerPodname --tail 100\r\n"
                },
                {
                    "output_type": "stream",
                    "name": "stdout",
                    "text": ">> }\r\n"
                },
                {
                    "output_type": "stream",
                    "name": "stdout",
                    "text": ">> \r\n"
                },
                {
                    "output_type": "stream",
                    "name": "stdout",
                    "text": "$schedulerPodname = kubectl -n kube-system get pod -l component=kube-scheduler -o jsonpath='{.items[0].metadata.name}'\r\n"
                },
                {
                    "output_type": "stream",
                    "name": "stdout",
                    "text": "error: error executing jsonpath \"{.items[0].metadata.name}\": Error executing template: array index out of bounds: index 0, length 0. Printing more information for debugging the template:\r\n"
                },
                {
                    "output_type": "stream",
                    "name": "stdout",
                    "text": "\ttemplate was:\r\n"
                },
                {
                    "output_type": "stream",
                    "name": "stdout",
                    "text": "\t\t{.items[0].metadata.name}\r\n"
                },
                {
                    "output_type": "stream",
                    "name": "stdout",
                    "text": "\tobject given to jsonpath engine was:\r\n"
                },
                {
                    "output_type": "stream",
                    "name": "stdout",
                    "text": "\t\tmap[string]interface {}{\"apiVersion\":\"v1\", \"items\":[]interface {}{}, \"kind\":\"List\", \"metadata\":map[string]interface {}{\"resourceVersion\":\"\", \"selfLink\":\"\"}}\r\n"
                },
                {
                    "output_type": "stream",
                    "name": "stdout",
                    "text": "\r\n"
                },
                {
                    "output_type": "stream",
                    "name": "stdout",
                    "text": "\r\n"
                },
                {
                    "output_type": "stream",
                    "name": "stdout",
                    "text": "if ($schedulerPodname) {\r\n"
                },
                {
                    "output_type": "stream",
                    "name": "stdout",
                    "text": ">>     kubectl -n kube-system logs $schedulerPodname --tail 100\r\n"
                },
                {
                    "output_type": "stream",
                    "name": "stdout",
                    "text": ">> }\r\n"
                },
                {
                    "output_type": "stream",
                    "name": "stdout",
                    "text": ">> \r\n"
                },
                {
                    "output_type": "stream",
                    "name": "stdout",
                    "text": "$dnsPodname = kubectl -n kube-system get pod -l k8s-app=kube-dns -o jsonpath='{.items[0].metadata.name}'\r\n"
                },
                {
                    "output_type": "stream",
                    "name": "stdout",
                    "text": "if ($dnsPodname) {\r\n"
                },
                {
                    "output_type": "stream",
                    "name": "stdout",
                    "text": ">>     kubectl -n kube-system logs $dnsPodname -c kubedns\r\n"
                },
                {
                    "output_type": "stream",
                    "name": "stdout",
                    "text": ">> }\r\n"
                },
                {
                    "output_type": "stream",
                    "name": "stdout",
                    "text": ">> \r\n"
                },
                {
                    "output_type": "stream",
                    "name": "stdout",
                    "text": "Error from server (BadRequest): container kubedns is not valid for pod coredns-698c77c5d7-gbdq4\r\n"
                }
            ],
            "execution_count": 22
        },
        {
            "cell_type": "markdown",
            "source": [
                "### Looking at kube-proxy logs"
            ],
            "metadata": {
                "azdata_cell_guid": "56031de8-e32c-49ec-80d8-d587f8873fbc"
            }
        },
        {
            "cell_type": "code",
            "source": [
                "kubectl -n kube-system get pod -l component=kube-proxy\n",
                "\n",
                "$podname = kubectl -n kube-system get pod -l component=kube-proxy -o=jsonpath='{.items[0].metadata.name}'\n",
                "kubectl -n kube-system logs $podname"
            ],
            "metadata": {
                "azdata_cell_guid": "98818e19-dd2a-4b4a-8f65-77bf83c631d9",
                "tags": []
            },
            "outputs": [
                {
                    "output_type": "stream",
                    "name": "stdout",
                    "text": "kubectl -n kube-system get pod -l component=kube-proxy\r\n"
                },
                {
                    "output_type": "stream",
                    "name": "stdout",
                    "text": "NAME               READY   STATUS    RESTARTS   AGE\r\n"
                },
                {
                    "output_type": "stream",
                    "name": "stdout",
                    "text": "kube-proxy-bxbzh   1/1     Running   0          72m\r\n"
                },
                {
                    "output_type": "stream",
                    "name": "stdout",
                    "text": "kube-proxy-qv468   1/1     Running   0          73m\r\n"
                },
                {
                    "output_type": "stream",
                    "name": "stdout",
                    "text": "kube-proxy-vx5zv   1/1     Running   0          73m\r\n"
                },
                {
                    "output_type": "stream",
                    "name": "stdout",
                    "text": "\r\n"
                },
                {
                    "output_type": "stream",
                    "name": "stdout",
                    "text": "$podname = kubectl -n kube-system get pod -l component=kube-proxy -o=jsonpath='{.items[0].metadata.name}'\r\n"
                },
                {
                    "output_type": "stream",
                    "name": "stdout",
                    "text": "kubectl -n kube-system logs $podname\r\n"
                },
                {
                    "output_type": "stream",
                    "name": "stdout",
                    "text": "I0614 04:00:58.122515       1 flags.go:33] FLAG: --alsologtostderr=\"false\"\r\n"
                },
                {
                    "output_type": "stream",
                    "name": "stdout",
                    "text": "I0614 04:00:58.122595       1 flags.go:33] FLAG: --application-metrics-count-limit=\"100\"\r\n"
                },
                {
                    "output_type": "stream",
                    "name": "stdout",
                    "text": "I0614 04:00:58.122601       1 flags.go:33] FLAG: --azure-container-registry-config=\"\"\r\n"
                },
                {
                    "output_type": "stream",
                    "name": "stdout",
                    "text": "I0614 04:00:58.122605       1 flags.go:33] FLAG: --bind-address=\"0.0.0.0\"\r\n"
                },
                {
                    "output_type": "stream",
                    "name": "stdout",
                    "text": "I0614 04:00:58.122610       1 flags.go:33] FLAG: --boot-id-file=\"/proc/sys/kernel/random/boot_id\"\r\n"
                },
                {
                    "output_type": "stream",
                    "name": "stdout",
                    "text": "I0614 04:00:58.122615       1 flags.go:33] FLAG: --cleanup=\"false\"\r\n"
                },
                {
                    "output_type": "stream",
                    "name": "stdout",
                    "text": "I0614 04:00:58.122644       1 flags.go:33] FLAG: --cleanup-ipvs=\"true\"\r\n"
                },
                {
                    "output_type": "stream",
                    "name": "stdout",
                    "text": "I0614 04:00:58.122649       1 flags.go:33] FLAG: --cloud-provider-gce-lb-src-cidrs=\"130.211.0.0/22,209.85.152.0/22,209.85.204.0/22,35.191.0.0/16\"\r\n"
                },
                {
                    "output_type": "stream",
                    "name": "stdout",
                    "text": "I0614 04:00:58.122662       1 flags.go:33] FLAG: --cluster-cidr=\"10.244.0.0/16\"\r\n"
                },
                {
                    "output_type": "stream",
                    "name": "stdout",
                    "text": "I0614 04:00:58.122665       1 flags.go:33] FLAG: --config=\"\"\r\n"
                },
                {
                    "output_type": "stream",
                    "name": "stdout",
                    "text": "I0614 04:00:58.122669       1 flags.go:33] FLAG: --config-sync-period=\"15m0s\"\r\n"
                },
                {
                    "output_type": "stream",
                    "name": "stdout",
                    "text": "I0614 04:00:58.122674       1 flags.go:33] FLAG: --conntrack-max-per-core=\"32768\"\r\n"
                },
                {
                    "output_type": "stream",
                    "name": "stdout",
                    "text": "I0614 04:00:58.122679       1 flags.go:33] FLAG: --conntrack-min=\"131072\"\r\n"
                },
                {
                    "output_type": "stream",
                    "name": "stdout",
                    "text": "I0614 04:00:58.122682       1 flags.go:33] FLAG: --conntrack-tcp-timeout-close-wait=\"1h0m0s\"\r\n"
                },
                {
                    "output_type": "stream",
                    "name": "stdout",
                    "text": "I0614 04:00:58.122686       1 flags.go:33] FLAG: --conntrack-tcp-timeout-established=\"24h0m0s\"\r\n"
                },
                {
                    "output_type": "stream",
                    "name": "stdout",
                    "text": "I0614 04:00:58.122691       1 flags.go:33] FLAG: --container-hints=\"/etc/cadvisor/container_hints.json\"\r\n"
                },
                {
                    "output_type": "stream",
                    "name": "stdout",
                    "text": "I0614 04:00:58.122695       1 flags.go:33] FLAG: --containerd=\"/run/containerd/containerd.sock\"\r\n"
                },
                {
                    "output_type": "stream",
                    "name": "stdout",
                    "text": "I0614 04:00:58.122699       1 flags.go:33] FLAG: --containerd-namespace=\"k8s.io\"\r\n"
                },
                {
                    "output_type": "stream",
                    "name": "stdout",
                    "text": "I0614 04:00:58.122754       1 flags.go:33] FLAG: --default-not-ready-toleration-seconds=\"300\"\r\n"
                },
                {
                    "output_type": "stream",
                    "name": "stdout",
                    "text": "I0614 04:00:58.122760       1 flags.go:33] FLAG: --default-unreachable-toleration-seconds=\"300\"\r\n"
                },
                {
                    "output_type": "stream",
                    "name": "stdout",
                    "text": "I0614 04:00:58.122764       1 flags.go:33] FLAG: --docker=\"unix:///var/run/docker.sock\"\r\n"
                },
                {
                    "output_type": "stream",
                    "name": "stdout",
                    "text": "I0614 04:00:58.122784       1 flags.go:33] FLAG: --docker-env-metadata-whitelist=\"\"\r\n"
                },
                {
                    "output_type": "stream",
                    "name": "stdout",
                    "text": "I0614 04:00:58.122787       1 flags.go:33] FLAG: --docker-only=\"false\"\r\n"
                },
                {
                    "output_type": "stream",
                    "name": "stdout",
                    "text": "I0614 04:00:58.122805       1 flags.go:33] FLAG: --docker-root=\"/var/lib/docker\"\r\n"
                },
                {
                    "output_type": "stream",
                    "name": "stdout",
                    "text": "I0614 04:00:58.122809       1 flags.go:33] FLAG: --docker-tls=\"false\"\r\n"
                },
                {
                    "output_type": "stream",
                    "name": "stdout",
                    "text": "I0614 04:00:58.122812       1 flags.go:33] FLAG: --docker-tls-ca=\"ca.pem\"\r\n"
                },
                {
                    "output_type": "stream",
                    "name": "stdout",
                    "text": "I0614 04:00:58.122832       1 flags.go:33] FLAG: --docker-tls-cert=\"cert.pem\"\r\n"
                },
                {
                    "output_type": "stream",
                    "name": "stdout",
                    "text": "I0614 04:00:58.122835       1 flags.go:33] FLAG: --docker-tls-key=\"key.pem\"\r\n"
                },
                {
                    "output_type": "stream",
                    "name": "stdout",
                    "text": "I0614 04:00:58.122838       1 flags.go:33] FLAG: --enable-load-reader=\"false\"\r\n"
                },
                {
                    "output_type": "stream",
                    "name": "stdout",
                    "text": "I0614 04:00:58.122842       1 flags.go:33] FLAG: --event-storage-age-limit=\"default=0\"\r\n"
                },
                {
                    "output_type": "stream",
                    "name": "stdout",
                    "text": "I0614 04:00:58.122844       1 flags.go:33] FLAG: --event-storage-event-limit=\"default=0\"\r\n"
                },
                {
                    "output_type": "stream",
                    "name": "stdout",
                    "text": "I0614 04:00:58.122847       1 flags.go:33] FLAG: --feature-gates=\"ExperimentalCriticalPodAnnotation=true\"\r\n"
                },
                {
                    "output_type": "stream",
                    "name": "stdout",
                    "text": "I0614 04:00:58.122856       1 flags.go:33] FLAG: --global-housekeeping-interval=\"1m0s\"\r\n"
                },
                {
                    "output_type": "stream",
                    "name": "stdout",
                    "text": "I0614 04:00:58.122859       1 flags.go:33] FLAG: --healthz-bind-address=\"0.0.0.0:10256\"\r\n"
                },
                {
                    "output_type": "stream",
                    "name": "stdout",
                    "text": "I0614 04:00:58.122903       1 flags.go:33] FLAG: --healthz-port=\"10256\"\r\n"
                },
                {
                    "output_type": "stream",
                    "name": "stdout",
                    "text": "I0614 04:00:58.122909       1 flags.go:33] FLAG: --help=\"false\"\r\n"
                },
                {
                    "output_type": "stream",
                    "name": "stdout",
                    "text": "I0614 04:00:58.122929       1 flags.go:33] FLAG: --hostname-override=\"\"\r\n"
                },
                {
                    "output_type": "stream",
                    "name": "stdout",
                    "text": "I0614 04:00:58.122932       1 flags.go:33] FLAG: --housekeeping-interval=\"10s\"\r\n"
                },
                {
                    "output_type": "stream",
                    "name": "stdout",
                    "text": "I0614 04:00:58.122935       1 flags.go:33] FLAG: --iptables-masquerade-bit=\"14\"\r\n"
                },
                {
                    "output_type": "stream",
                    "name": "stdout",
                    "text": "I0614 04:00:58.122938       1 flags.go:33] FLAG: --iptables-min-sync-period=\"0s\"\r\n"
                },
                {
                    "output_type": "stream",
                    "name": "stdout",
                    "text": "I0614 04:00:58.122941       1 flags.go:33] FLAG: --iptables-sync-period=\"30s\"\r\n"
                },
                {
                    "output_type": "stream",
                    "name": "stdout",
                    "text": "I0614 04:00:58.122944       1 flags.go:33] FLAG: --ipvs-exclude-cidrs=\"[]\"\r\n"
                },
                {
                    "output_type": "stream",
                    "name": "stdout",
                    "text": "I0614 04:00:58.122957       1 flags.go:33] FLAG: --ipvs-min-sync-period=\"0s\"\r\n"
                },
                {
                    "output_type": "stream",
                    "name": "stdout",
                    "text": "I0614 04:00:58.122959       1 flags.go:33] FLAG: --ipvs-scheduler=\"\"\r\n"
                },
                {
                    "output_type": "stream",
                    "name": "stdout",
                    "text": "I0614 04:00:58.122964       1 flags.go:33] FLAG: --ipvs-strict-arp=\"false\"\r\n"
                },
                {
                    "output_type": "stream",
                    "name": "stdout",
                    "text": "I0614 04:00:58.122967       1 flags.go:33] FLAG: --ipvs-sync-period=\"30s\"\r\n"
                },
                {
                    "output_type": "stream",
                    "name": "stdout",
                    "text": "I0614 04:00:58.122983       1 flags.go:33] FLAG: --kube-api-burst=\"10\"\r\n"
                },
                {
                    "output_type": "stream",
                    "name": "stdout",
                    "text": "I0614 04:00:58.122986       1 flags.go:33] FLAG: --kube-api-content-type=\"application/vnd.kubernetes.protobuf\"\r\n"
                },
                {
                    "output_type": "stream",
                    "name": "stdout",
                    "text": "I0614 04:00:58.122989       1 flags.go:33] FLAG: --kube-api-qps=\"5\"\r\n"
                },
                {
                    "output_type": "stream",
                    "name": "stdout",
                    "text": "I0614 04:00:58.122994       1 flags.go:33] FLAG: --kubeconfig=\"/var/lib/kubelet/kubeconfig\"\r\n"
                },
                {
                    "output_type": "stream",
                    "name": "stdout",
                    "text": "I0614 04:00:58.122997       1 flags.go:33] FLAG: --log-backtrace-at=\":0\"\r\n"
                },
                {
                    "output_type": "stream",
                    "name": "stdout",
                    "text": "I0614 04:00:58.123018       1 flags.go:33] FLAG: --log-cadvisor-usage=\"false\"\r\n"
                },
                {
                    "output_type": "stream",
                    "name": "stdout",
                    "text": "I0614 04:00:58.123021       1 flags.go:33] FLAG: --log-dir=\"\"\r\n"
                },
                {
                    "output_type": "stream",
                    "name": "stdout",
                    "text": "I0614 04:00:58.123041       1 flags.go:33] FLAG: --log-file=\"\"\r\n"
                },
                {
                    "output_type": "stream",
                    "name": "stdout",
                    "text": "I0614 04:00:58.123044       1 flags.go:33] FLAG: --log-file-max-size=\"1800\"\r\n"
                },
                {
                    "output_type": "stream",
                    "name": "stdout",
                    "text": "I0614 04:00:58.123048       1 flags.go:33] FLAG: --log-flush-frequency=\"5s\"\r\n"
                },
                {
                    "output_type": "stream",
                    "name": "stdout",
                    "text": "I0614 04:00:58.123051       1 flags.go:33] FLAG: --logtostderr=\"true\"\r\n"
                },
                {
                    "output_type": "stream",
                    "name": "stdout",
                    "text": "I0614 04:00:58.123080       1 flags.go:33] FLAG: --machine-id-file=\"/etc/machine-id,/var/lib/dbus/machine-id\"\r\n"
                },
                {
                    "output_type": "stream",
                    "name": "stdout",
                    "text": "I0614 04:00:58.123084       1 flags.go:33] FLAG: --masquerade-all=\"false\"\r\n"
                },
                {
                    "output_type": "stream",
                    "name": "stdout",
                    "text": "I0614 04:00:58.123087       1 flags.go:33] FLAG: --master=\"\"\r\n"
                },
                {
                    "output_type": "stream",
                    "name": "stdout",
                    "text": "I0614 04:00:58.123090       1 flags.go:33] FLAG: --metrics-bind-address=\"127.0.0.1:10249\"\r\n"
                },
                {
                    "output_type": "stream",
                    "name": "stdout",
                    "text": "I0614 04:00:58.123094       1 flags.go:33] FLAG: --metrics-port=\"10249\"\r\n"
                },
                {
                    "output_type": "stream",
                    "name": "stdout",
                    "text": "I0614 04:00:58.123097       1 flags.go:33] FLAG: --nodeport-addresses=\"[]\"\r\n"
                },
                {
                    "output_type": "stream",
                    "name": "stdout",
                    "text": "I0614 04:00:58.123101       1 flags.go:33] FLAG: --oom-score-adj=\"-999\"\r\n"
                },
                {
                    "output_type": "stream",
                    "name": "stdout",
                    "text": "I0614 04:00:58.123104       1 flags.go:33] FLAG: --profiling=\"false\"\r\n"
                },
                {
                    "output_type": "stream",
                    "name": "stdout",
                    "text": "I0614 04:00:58.123107       1 flags.go:33] FLAG: --proxy-mode=\"\"\r\n"
                },
                {
                    "output_type": "stream",
                    "name": "stdout",
                    "text": "I0614 04:00:58.123111       1 flags.go:33] FLAG: --proxy-port-range=\"\"\r\n"
                },
                {
                    "output_type": "stream",
                    "name": "stdout",
                    "text": "I0614 04:00:58.123115       1 flags.go:33] FLAG: --resource-container=\"/kube-proxy\"\r\n"
                },
                {
                    "output_type": "stream",
                    "name": "stdout",
                    "text": "I0614 04:00:58.123118       1 flags.go:33] FLAG: --skip-headers=\"false\"\r\n"
                },
                {
                    "output_type": "stream",
                    "name": "stdout",
                    "text": "I0614 04:00:58.123122       1 flags.go:33] FLAG: --skip-log-headers=\"false\"\r\n"
                },
                {
                    "output_type": "stream",
                    "name": "stdout",
                    "text": "I0614 04:00:58.123124       1 flags.go:33] FLAG: --stderrthreshold=\"2\"\r\n"
                },
                {
                    "output_type": "stream",
                    "name": "stdout",
                    "text": "I0614 04:00:58.123128       1 flags.go:33] FLAG: --storage-driver-buffer-duration=\"1m0s\"\r\n"
                },
                {
                    "output_type": "stream",
                    "name": "stdout",
                    "text": "I0614 04:00:58.123131       1 flags.go:33] FLAG: --storage-driver-db=\"cadvisor\"\r\n"
                },
                {
                    "output_type": "stream",
                    "name": "stdout",
                    "text": "I0614 04:00:58.123134       1 flags.go:33] FLAG: --storage-driver-host=\"localhost:8086\"\r\n"
                },
                {
                    "output_type": "stream",
                    "name": "stdout",
                    "text": "I0614 04:00:58.123138       1 flags.go:33] FLAG: --storage-driver-password=\"root\"\r\n"
                },
                {
                    "output_type": "stream",
                    "name": "stdout",
                    "text": "I0614 04:00:58.123141       1 flags.go:33] FLAG: --storage-driver-secure=\"false\"\r\n"
                },
                {
                    "output_type": "stream",
                    "name": "stdout",
                    "text": "I0614 04:00:58.123144       1 flags.go:33] FLAG: --storage-driver-table=\"stats\"\r\n"
                },
                {
                    "output_type": "stream",
                    "name": "stdout",
                    "text": "I0614 04:00:58.123147       1 flags.go:33] FLAG: --storage-driver-user=\"root\"\r\n"
                },
                {
                    "output_type": "stream",
                    "name": "stdout",
                    "text": "I0614 04:00:58.123150       1 flags.go:33] FLAG: --udp-timeout=\"250ms\"\r\n"
                },
                {
                    "output_type": "stream",
                    "name": "stdout",
                    "text": "I0614 04:00:58.123166       1 flags.go:33] FLAG: --update-machine-info-interval=\"5m0s\"\r\n"
                },
                {
                    "output_type": "stream",
                    "name": "stdout",
                    "text": "I0614 04:00:58.123172       1 flags.go:33] FLAG: --v=\"3\"\r\n"
                },
                {
                    "output_type": "stream",
                    "name": "stdout",
                    "text": "I0614 04:00:58.123176       1 flags.go:33] FLAG: --version=\"false\"\r\n"
                },
                {
                    "output_type": "stream",
                    "name": "stdout",
                    "text": "I0614 04:00:58.123181       1 flags.go:33] FLAG: --vmodule=\"\"\r\n"
                },
                {
                    "output_type": "stream",
                    "name": "stdout",
                    "text": "I0614 04:00:58.123184       1 flags.go:33] FLAG: --write-config-to=\"\"\r\n"
                },
                {
                    "output_type": "stream",
                    "name": "stdout",
                    "text": "W0614 04:00:58.148579       1 server.go:216] WARNING: all flags other than --config, --write-config-to, and --cleanup are deprecated. Please begin using a config file ASAP.\r\n"
                },
                {
                    "output_type": "stream",
                    "name": "stdout",
                    "text": "I0614 04:00:58.148630       1 feature_gate.go:216] feature gates: &{map[ExperimentalCriticalPodAnnotation:true]}\r\n"
                },
                {
                    "output_type": "stream",
                    "name": "stdout",
                    "text": "I0614 04:00:58.429793       1 iptables.go:610] couldn't get iptables-restore version; assuming it doesn't support --wait\r\n"
                },
                {
                    "output_type": "stream",
                    "name": "stdout",
                    "text": "W0614 04:00:58.446844       1 proxier.go:500] Failed to read file /lib/modules/4.15.0-1083-azure/modules.builtin with error open /lib/modules/4.15.0-1083-azure/modules.builtin: no such file or directory. You can ignore this message when kube-proxy is running inside container without mounting /lib/modules\r\n"
                },
                {
                    "output_type": "stream",
                    "name": "stdout",
                    "text": "W0614 04:00:58.488856       1 proxier.go:513] Failed to load kernel module ip_vs with modprobe. You can ignore this message when kube-proxy is running inside container without mounting /lib/modules\r\n"
                },
                {
                    "output_type": "stream",
                    "name": "stdout",
                    "text": "W0614 04:00:58.490307       1 proxier.go:513] Failed to load kernel module ip_vs_rr with modprobe. You can ignore this message when kube-proxy is running inside container without mounting /lib/modules\r\n"
                },
                {
                    "output_type": "stream",
                    "name": "stdout",
                    "text": "W0614 04:00:58.491385       1 proxier.go:513] Failed to load kernel module ip_vs_wrr with modprobe. You can ignore this message when kube-proxy is running inside container without mounting /lib/modules\r\n"
                },
                {
                    "output_type": "stream",
                    "name": "stdout",
                    "text": "W0614 04:00:58.492284       1 proxier.go:513] Failed to load kernel module ip_vs_sh with modprobe. You can ignore this message when kube-proxy is running inside container without mounting /lib/modules\r\n"
                },
                {
                    "output_type": "stream",
                    "name": "stdout",
                    "text": "W0614 04:00:58.493067       1 proxier.go:513] Failed to load kernel module nf_conntrack_ipv4 with modprobe. You can ignore this message when kube-proxy is running inside container without mounting /lib/modules\r\n"
                },
                {
                    "output_type": "stream",
                    "name": "stdout",
                    "text": "W0614 04:00:58.591706       1 server_others.go:249] Flag proxy-mode=\"\" unknown, assuming iptables proxy\r\n"
                },
                {
                    "output_type": "stream",
                    "name": "stdout",
                    "text": "I0614 04:00:58.833428       1 server_others.go:143] Using iptables Proxier.\r\n"
                },
                {
                    "output_type": "stream",
                    "name": "stdout",
                    "text": "I0614 04:00:58.833702       1 proxier.go:357] minSyncPeriod: 0s, syncPeriod: 30s, burstSyncs: 2\r\n"
                },
                {
                    "output_type": "stream",
                    "name": "stdout",
                    "text": "I0614 04:00:58.833868       1 iptables.go:200] Could not connect to D-Bus system bus: dial unix /var/run/dbus/system_bus_socket: connect: no such file or directory\r\n"
                },
                {
                    "output_type": "stream",
                    "name": "stdout",
                    "text": "I0614 04:00:58.841172       1 server.go:534] Version: v1.15.11\r\n"
                },
                {
                    "output_type": "stream",
                    "name": "stdout",
                    "text": "I0614 04:00:58.859166       1 server.go:550] Running in resource-only container \"/kube-proxy\"\r\n"
                },
                {
                    "output_type": "stream",
                    "name": "stdout",
                    "text": "I0614 04:00:58.859493       1 server.go:668] getConntrackMax: using conntrack-min\r\n"
                },
                {
                    "output_type": "stream",
                    "name": "stdout",
                    "text": "I0614 04:00:58.859547       1 conntrack.go:100] Set sysctl 'net/netfilter/nf_conntrack_max' to 131072\r\n"
                },
                {
                    "output_type": "stream",
                    "name": "stdout",
                    "text": "I0614 04:00:58.859567       1 conntrack.go:52] Setting nf_conntrack_max to 131072\r\n"
                },
                {
                    "output_type": "stream",
                    "name": "stdout",
                    "text": "I0614 04:00:58.866728       1 healthcheck.go:309] Starting goroutine for healthz on 0.0.0.0:10256\r\n"
                },
                {
                    "output_type": "stream",
                    "name": "stdout",
                    "text": "I0614 04:00:58.873628       1 mount_linux.go:160] Detected OS without systemd\r\n"
                },
                {
                    "output_type": "stream",
                    "name": "stdout",
                    "text": "I0614 04:00:58.873927       1 conntrack.go:83] Setting conntrack hashsize to 32768\r\n"
                },
                {
                    "output_type": "stream",
                    "name": "stdout",
                    "text": "I0614 04:00:58.893781       1 conntrack.go:100] Set sysctl 'net/netfilter/nf_conntrack_tcp_timeout_established' to 86400\r\n"
                },
                {
                    "output_type": "stream",
                    "name": "stdout",
                    "text": "I0614 04:00:58.893847       1 conntrack.go:100] Set sysctl 'net/netfilter/nf_conntrack_tcp_timeout_close_wait' to 3600\r\n"
                },
                {
                    "output_type": "stream",
                    "name": "stdout",
                    "text": "I0614 04:00:58.893986       1 config.go:187] Starting service config controller\r\n"
                },
                {
                    "output_type": "stream",
                    "name": "stdout",
                    "text": "I0614 04:00:58.894003       1 controller_utils.go:1029] Waiting for caches to sync for service config controller\r\n"
                },
                {
                    "output_type": "stream",
                    "name": "stdout",
                    "text": "I0614 04:00:58.894133       1 config.go:96] Starting endpoints config controller\r\n"
                },
                {
                    "output_type": "stream",
                    "name": "stdout",
                    "text": "I0614 04:00:58.894170       1 controller_utils.go:1029] Waiting for caches to sync for endpoints config controller\r\n"
                },
                {
                    "output_type": "stream",
                    "name": "stdout",
                    "text": "I0614 04:00:58.933229       1 bounded_frequency_runner.go:170] sync-runner Loop running\r\n"
                },
                {
                    "output_type": "stream",
                    "name": "stdout",
                    "text": "I0614 04:00:58.933365       1 reflector.go:122] Starting reflector *v1.Endpoints (15m0s) from k8s.io/client-go/informers/factory.go:133\r\n"
                },
                {
                    "output_type": "stream",
                    "name": "stdout",
                    "text": "I0614 04:00:58.933404       1 reflector.go:160] Listing and watching *v1.Endpoints from k8s.io/client-go/informers/factory.go:133\r\n"
                },
                {
                    "output_type": "stream",
                    "name": "stdout",
                    "text": "I0614 04:00:58.943195       1 reflector.go:122] Starting reflector *v1.Service (15m0s) from k8s.io/client-go/informers/factory.go:133\r\n"
                },
                {
                    "output_type": "stream",
                    "name": "stdout",
                    "text": "I0614 04:00:58.943221       1 reflector.go:160] Listing and watching *v1.Service from k8s.io/client-go/informers/factory.go:133\r\n"
                },
                {
                    "output_type": "stream",
                    "name": "stdout",
                    "text": "I0614 04:00:59.034358       1 endpoints.go:277] Setting endpoints for \"kube-system/kube-dns:dns\" to [10.244.0.5:53 10.244.1.3:53]\r\n"
                },
                {
                    "output_type": "stream",
                    "name": "stdout",
                    "text": "I0614 04:00:59.034462       1 endpoints.go:277] Setting endpoints for \"kube-system/kube-dns:dns-tcp\" to [10.244.0.5:53 10.244.1.3:53]\r\n"
                },
                {
                    "output_type": "stream",
                    "name": "stdout",
                    "text": "I0614 04:00:59.034482       1 endpoints.go:277] Setting endpoints for \"kube-system/metrics-server:\" to [10.244.0.8:443]\r\n"
                },
                {
                    "output_type": "stream",
                    "name": "stdout",
                    "text": "I0614 04:00:59.034495       1 endpoints.go:277] Setting endpoints for \"kube-system/kubernetes-dashboard:\" to [10.244.0.7:9090]\r\n"
                },
                {
                    "output_type": "stream",
                    "name": "stdout",
                    "text": "I0614 04:00:59.034505       1 endpoints.go:277] Setting endpoints for \"kube-system/healthmodel-replicaset-service:\" to [10.244.0.6:25227]\r\n"
                },
                {
                    "output_type": "stream",
                    "name": "stdout",
                    "text": "I0614 04:00:59.034519       1 endpoints.go:277] Setting endpoints for \"default/kubernetes:https\" to [52.177.145.11:443]\r\n"
                },
                {
                    "output_type": "stream",
                    "name": "stdout",
                    "text": "I0614 04:00:59.094155       1 controller_utils.go:1036] Caches are synced for service config controller\r\n"
                },
                {
                    "output_type": "stream",
                    "name": "stdout",
                    "text": "I0614 04:00:59.094170       1 config.go:194] Calling handler.OnServiceSynced()\r\n"
                },
                {
                    "output_type": "stream",
                    "name": "stdout",
                    "text": "I0614 04:00:59.094301       1 controller_utils.go:1036] Caches are synced for endpoints config controller\r\n"
                },
                {
                    "output_type": "stream",
                    "name": "stdout",
                    "text": "I0614 04:00:59.094310       1 config.go:103] Calling handler.OnEndpointsSynced()\r\n"
                },
                {
                    "output_type": "stream",
                    "name": "stdout",
                    "text": "I0614 04:00:59.110899       1 proxier.go:679] Not syncing iptables until Services and Endpoints have been received from master\r\n"
                },
                {
                    "output_type": "stream",
                    "name": "stdout",
                    "text": "I0614 04:00:59.111005       1 service.go:332] Adding new service port \"kube-system/healthmodel-replicaset-service:\" at 10.0.127.47:25227/TCP\r\n"
                },
                {
                    "output_type": "stream",
                    "name": "stdout",
                    "text": "I0614 04:00:59.111022       1 service.go:332] Adding new service port \"default/kubernetes:https\" at 10.0.0.1:443/TCP\r\n"
                },
                {
                    "output_type": "stream",
                    "name": "stdout",
                    "text": "I0614 04:00:59.111031       1 service.go:332] Adding new service port \"kube-system/kube-dns:dns\" at 10.0.0.10:53/UDP\r\n"
                },
                {
                    "output_type": "stream",
                    "name": "stdout",
                    "text": "I0614 04:00:59.111038       1 service.go:332] Adding new service port \"kube-system/kube-dns:dns-tcp\" at 10.0.0.10:53/TCP\r\n"
                },
                {
                    "output_type": "stream",
                    "name": "stdout",
                    "text": "I0614 04:00:59.111045       1 service.go:332] Adding new service port \"kube-system/metrics-server:\" at 10.0.2.206:443/TCP\r\n"
                },
                {
                    "output_type": "stream",
                    "name": "stdout",
                    "text": "I0614 04:00:59.111053       1 service.go:332] Adding new service port \"kube-system/kubernetes-dashboard:\" at 10.0.165.18:80/TCP\r\n"
                },
                {
                    "output_type": "stream",
                    "name": "stdout",
                    "text": "I0614 04:00:59.111130       1 proxier.go:693] Stale udp service kube-system/kube-dns:dns -> 10.0.0.10\r\n"
                },
                {
                    "output_type": "stream",
                    "name": "stdout",
                    "text": "I0614 04:00:59.111145       1 proxier.go:701] Syncing iptables rules\r\n"
                },
                {
                    "output_type": "stream",
                    "name": "stdout",
                    "text": "I0614 04:01:28.933500       1 proxier.go:701] Syncing iptables rules\r\n"
                },
                {
                    "output_type": "stream",
                    "name": "stdout",
                    "text": "I0614 04:01:28.957876       1 bounded_frequency_runner.go:221] sync-runner: ran, next possible in 0s, periodic in 30s\r\n"
                },
                {
                    "output_type": "stream",
                    "name": "stdout",
                    "text": "I0614 04:01:58.958106       1 proxier.go:701] Syncing iptables rules\r\n"
                },
                {
                    "output_type": "stream",
                    "name": "stdout",
                    "text": "I0614 04:01:58.983599       1 bounded_frequency_runner.go:221] sync-runner: ran, next possible in 0s, periodic in 30s\r\n"
                },
                {
                    "output_type": "stream",
                    "name": "stdout",
                    "text": "I0614 04:02:28.983802       1 proxier.go:701] Syncing iptables rules\r\n"
                },
                {
                    "output_type": "stream",
                    "name": "stdout",
                    "text": "I0614 04:02:29.008682       1 bounded_frequency_runner.go:221] sync-runner: ran, next possible in 0s, periodic in 30s\r\n"
                },
                {
                    "output_type": "stream",
                    "name": "stdout",
                    "text": "I0614 04:02:59.009464       1 proxier.go:701] Syncing iptables rules\r\n"
                },
                {
                    "output_type": "stream",
                    "name": "stdout",
                    "text": "I0614 04:02:59.039068       1 bounded_frequency_runner.go:221] sync-runner: ran, next possible in 0s, periodic in 30s\r\n"
                },
                {
                    "output_type": "stream",
                    "name": "stdout",
                    "text": "I0614 04:03:29.039266       1 proxier.go:701] Syncing iptables rules\r\n"
                },
                {
                    "output_type": "stream",
                    "name": "stdout",
                    "text": "I0614 04:03:29.071348       1 bounded_frequency_runner.go:221] sync-runner: ran, next possible in 0s, periodic in 30s\r\n"
                },
                {
                    "output_type": "stream",
                    "name": "stdout",
                    "text": "I0614 04:03:59.071518       1 proxier.go:701] Syncing iptables rules\r\n"
                },
                {
                    "output_type": "stream",
                    "name": "stdout",
                    "text": "I0614 04:03:59.103185       1 bounded_frequency_runner.go:221] sync-runner: ran, next possible in 0s, periodic in 30s\r\n"
                },
                {
                    "output_type": "stream",
                    "name": "stdout",
                    "text": "I0614 04:04:29.103369       1 proxier.go:701] Syncing iptables rules\r\n"
                },
                {
                    "output_type": "stream",
                    "name": "stdout",
                    "text": "I0614 04:04:29.130124       1 bounded_frequency_runner.go:221] sync-runner: ran, next possible in 0s, periodic in 30s\r\n"
                },
                {
                    "output_type": "stream",
                    "name": "stdout",
                    "text": "I0614 04:04:59.130705       1 proxier.go:701] Syncing iptables rules\r\n"
                },
                {
                    "output_type": "stream",
                    "name": "stdout",
                    "text": "I0614 04:04:59.158765       1 bounded_frequency_runner.go:221] sync-runner: ran, next possible in 0s, periodic in 30s\r\n"
                },
                {
                    "output_type": "stream",
                    "name": "stdout",
                    "text": "I0614 04:05:29.159007       1 proxier.go:701] Syncing iptables rules\r\n"
                },
                {
                    "output_type": "stream",
                    "name": "stdout",
                    "text": "I0614 04:05:29.186835       1 bounded_frequency_runner.go:221] sync-runner: ran, next possible in 0s, periodic in 30s\r\n"
                },
                {
                    "output_type": "stream",
                    "name": "stdout",
                    "text": "I0614 04:05:59.187016       1 proxier.go:701] Syncing iptables rules\r\n"
                },
                {
                    "output_type": "stream",
                    "name": "stdout",
                    "text": "I0614 04:05:59.212480       1 bounded_frequency_runner.go:221] sync-runner: ran, next possible in 0s, periodic in 30s\r\n"
                },
                {
                    "output_type": "stream",
                    "name": "stdout",
                    "text": "I0614 04:06:29.212670       1 proxier.go:701] Syncing iptables rules\r\n"
                },
                {
                    "output_type": "stream",
                    "name": "stdout",
                    "text": "I0614 04:06:29.238352       1 bounded_frequency_runner.go:221] sync-runner: ran, next possible in 0s, periodic in 30s\r\n"
                },
                {
                    "output_type": "stream",
                    "name": "stdout",
                    "text": "I0614 04:06:59.238539       1 proxier.go:701] Syncing iptables rules\r\n"
                },
                {
                    "output_type": "stream",
                    "name": "stdout",
                    "text": "I0614 04:06:59.269379       1 bounded_frequency_runner.go:221] sync-runner: ran, next possible in 0s, periodic in 30s\r\n"
                },
                {
                    "output_type": "stream",
                    "name": "stdout",
                    "text": "I0614 04:07:29.269660       1 proxier.go:701] Syncing iptables rules\r\n"
                },
                {
                    "output_type": "stream",
                    "name": "stdout",
                    "text": "I0614 04:07:29.295302       1 bounded_frequency_runner.go:221] sync-runner: ran, next possible in 0s, periodic in 30s\r\n"
                },
                {
                    "output_type": "stream",
                    "name": "stdout",
                    "text": "I0614 04:07:59.295540       1 proxier.go:701] Syncing iptables rules\r\n"
                },
                {
                    "output_type": "stream",
                    "name": "stdout",
                    "text": "I0614 04:07:59.320749       1 bounded_frequency_runner.go:221] sync-runner: ran, next possible in 0s, periodic in 30s\r\n"
                },
                {
                    "output_type": "stream",
                    "name": "stdout",
                    "text": "I0614 04:08:29.320934       1 proxier.go:701] Syncing iptables rules\r\n"
                },
                {
                    "output_type": "stream",
                    "name": "stdout",
                    "text": "I0614 04:08:29.355121       1 bounded_frequency_runner.go:221] sync-runner: ran, next possible in 0s, periodic in 30s\r\n"
                },
                {
                    "output_type": "stream",
                    "name": "stdout",
                    "text": "I0614 04:08:59.355314       1 proxier.go:701] Syncing iptables rules\r\n"
                },
                {
                    "output_type": "stream",
                    "name": "stdout",
                    "text": "I0614 04:08:59.388711       1 bounded_frequency_runner.go:221] sync-runner: ran, next possible in 0s, periodic in 30s\r\n"
                },
                {
                    "output_type": "stream",
                    "name": "stdout",
                    "text": "I0614 04:09:29.388983       1 proxier.go:701] Syncing iptables rules\r\n"
                },
                {
                    "output_type": "stream",
                    "name": "stdout",
                    "text": "I0614 04:09:29.416774       1 bounded_frequency_runner.go:221] sync-runner: ran, next possible in 0s, periodic in 30s\r\n"
                },
                {
                    "output_type": "stream",
                    "name": "stdout",
                    "text": "I0614 04:09:59.416966       1 proxier.go:701] Syncing iptables rules\r\n"
                },
                {
                    "output_type": "stream",
                    "name": "stdout",
                    "text": "I0614 04:09:59.444598       1 bounded_frequency_runner.go:221] sync-runner: ran, next possible in 0s, periodic in 30s\r\n"
                },
                {
                    "output_type": "stream",
                    "name": "stdout",
                    "text": "I0614 04:10:29.444834       1 proxier.go:701] Syncing iptables rules\r\n"
                },
                {
                    "output_type": "stream",
                    "name": "stdout",
                    "text": "I0614 04:10:29.471143       1 bounded_frequency_runner.go:221] sync-runner: ran, next possible in 0s, periodic in 30s\r\n"
                },
                {
                    "output_type": "stream",
                    "name": "stdout",
                    "text": "I0614 04:10:59.471567       1 proxier.go:701] Syncing iptables rules\r\n"
                },
                {
                    "output_type": "stream",
                    "name": "stdout",
                    "text": "I0614 04:10:59.504587       1 bounded_frequency_runner.go:221] sync-runner: ran, next possible in 0s, periodic in 30s\r\n"
                },
                {
                    "output_type": "stream",
                    "name": "stdout",
                    "text": "I0614 04:11:29.504805       1 proxier.go:701] Syncing iptables rules\r\n"
                },
                {
                    "output_type": "stream",
                    "name": "stdout",
                    "text": "I0614 04:11:29.532873       1 bounded_frequency_runner.go:221] sync-runner: ran, next possible in 0s, periodic in 30s\r\n"
                },
                {
                    "output_type": "stream",
                    "name": "stdout",
                    "text": "I0614 04:11:59.533048       1 proxier.go:701] Syncing iptables rules\r\n"
                },
                {
                    "output_type": "stream",
                    "name": "stdout",
                    "text": "I0614 04:11:59.560468       1 bounded_frequency_runner.go:221] sync-runner: ran, next possible in 0s, periodic in 30s\r\n"
                },
                {
                    "output_type": "stream",
                    "name": "stdout",
                    "text": "I0614 04:12:29.560694       1 proxier.go:701] Syncing iptables rules\r\n"
                },
                {
                    "output_type": "stream",
                    "name": "stdout",
                    "text": "I0614 04:12:29.586004       1 bounded_frequency_runner.go:221] sync-runner: ran, next possible in 0s, periodic in 30s\r\n"
                },
                {
                    "output_type": "stream",
                    "name": "stdout",
                    "text": "I0614 04:12:59.586259       1 proxier.go:701] Syncing iptables rules\r\n"
                },
                {
                    "output_type": "stream",
                    "name": "stdout",
                    "text": "I0614 04:12:59.611059       1 bounded_frequency_runner.go:221] sync-runner: ran, next possible in 0s, periodic in 30s\r\n"
                },
                {
                    "output_type": "stream",
                    "name": "stdout",
                    "text": "I0614 04:13:29.611241       1 proxier.go:701] Syncing iptables rules\r\n"
                },
                {
                    "output_type": "stream",
                    "name": "stdout",
                    "text": "I0614 04:13:29.642198       1 bounded_frequency_runner.go:221] sync-runner: ran, next possible in 0s, periodic in 30s\r\n"
                },
                {
                    "output_type": "stream",
                    "name": "stdout",
                    "text": "I0614 04:13:59.642417       1 proxier.go:701] Syncing iptables rules\r\n"
                },
                {
                    "output_type": "stream",
                    "name": "stdout",
                    "text": "I0614 04:13:59.673250       1 bounded_frequency_runner.go:221] sync-runner: ran, next possible in 0s, periodic in 30s\r\n"
                },
                {
                    "output_type": "stream",
                    "name": "stdout",
                    "text": "I0614 04:14:29.673466       1 proxier.go:701] Syncing iptables rules\r\n"
                },
                {
                    "output_type": "stream",
                    "name": "stdout",
                    "text": "I0614 04:14:29.706120       1 bounded_frequency_runner.go:221] sync-runner: ran, next possible in 0s, periodic in 30s\r\n"
                },
                {
                    "output_type": "stream",
                    "name": "stdout",
                    "text": "I0614 04:14:59.706723       1 proxier.go:701] Syncing iptables rules\r\n"
                },
                {
                    "output_type": "stream",
                    "name": "stdout",
                    "text": "I0614 04:14:59.736968       1 bounded_frequency_runner.go:221] sync-runner: ran, next possible in 0s, periodic in 30s\r\n"
                },
                {
                    "output_type": "stream",
                    "name": "stdout",
                    "text": "I0614 04:15:29.737281       1 proxier.go:701] Syncing iptables rules\r\n"
                },
                {
                    "output_type": "stream",
                    "name": "stdout",
                    "text": "I0614 04:15:29.763278       1 bounded_frequency_runner.go:221] sync-runner: ran, next possible in 0s, periodic in 30s\r\n"
                },
                {
                    "output_type": "stream",
                    "name": "stdout",
                    "text": "I0614 04:15:59.034615       1 endpoints.go:277] Setting endpoints for \"kube-system/kubernetes-dashboard:\" to [10.244.0.7:9090]\r\n"
                },
                {
                    "output_type": "stream",
                    "name": "stdout",
                    "text": "I0614 04:15:59.034681       1 endpoints.go:277] Setting endpoints for \"kube-system/kubernetes-dashboard:\" to [10.244.0.7:9090]\r\n"
                },
                {
                    "output_type": "stream",
                    "name": "stdout",
                    "text": "I0614 04:15:59.034701       1 endpoints.go:277] Setting endpoints for \"kube-system/healthmodel-replicaset-service:\" to [10.244.0.6:25227]\r\n"
                },
                {
                    "output_type": "stream",
                    "name": "stdout",
                    "text": "I0614 04:15:59.034712       1 endpoints.go:277] Setting endpoints for \"kube-system/healthmodel-replicaset-service:\" to [10.244.0.6:25227]\r\n"
                },
                {
                    "output_type": "stream",
                    "name": "stdout",
                    "text": "I0614 04:15:59.034734       1 endpoints.go:277] Setting endpoints for \"default/kubernetes:https\" to [52.177.145.11:443]\r\n"
                },
                {
                    "output_type": "stream",
                    "name": "stdout",
                    "text": "I0614 04:15:59.034742       1 endpoints.go:277] Setting endpoints for \"default/kubernetes:https\" to [52.177.145.11:443]\r\n"
                },
                {
                    "output_type": "stream",
                    "name": "stdout",
                    "text": "I0614 04:15:59.034807       1 endpoints.go:277] Setting endpoints for \"kube-system/kube-dns:dns\" to [10.244.0.5:53 10.244.1.3:53]\r\n"
                },
                {
                    "output_type": "stream",
                    "name": "stdout",
                    "text": "I0614 04:15:59.034823       1 endpoints.go:277] Setting endpoints for \"kube-system/kube-dns:dns-tcp\" to [10.244.0.5:53 10.244.1.3:53]\r\n"
                },
                {
                    "output_type": "stream",
                    "name": "stdout",
                    "text": "I0614 04:15:59.034855       1 endpoints.go:277] Setting endpoints for \"kube-system/kube-dns:dns\" to [10.244.0.5:53 10.244.1.3:53]\r\n"
                },
                {
                    "output_type": "stream",
                    "name": "stdout",
                    "text": "I0614 04:15:59.034864       1 endpoints.go:277] Setting endpoints for \"kube-system/kube-dns:dns-tcp\" to [10.244.0.5:53 10.244.1.3:53]\r\n"
                },
                {
                    "output_type": "stream",
                    "name": "stdout",
                    "text": "I0614 04:15:59.034908       1 endpoints.go:277] Setting endpoints for \"kube-system/metrics-server:\" to [10.244.0.8:443]\r\n"
                },
                {
                    "output_type": "stream",
                    "name": "stdout",
                    "text": "I0614 04:15:59.034918       1 endpoints.go:277] Setting endpoints for \"kube-system/metrics-server:\" to [10.244.0.8:443]\r\n"
                },
                {
                    "output_type": "stream",
                    "name": "stdout",
                    "text": "I0614 04:15:59.763558       1 proxier.go:701] Syncing iptables rules\r\n"
                },
                {
                    "output_type": "stream",
                    "name": "stdout",
                    "text": "I0614 04:15:59.788794       1 bounded_frequency_runner.go:221] sync-runner: ran, next possible in 0s, periodic in 30s\r\n"
                },
                {
                    "output_type": "stream",
                    "name": "stdout",
                    "text": "I0614 04:16:29.788971       1 proxier.go:701] Syncing iptables rules\r\n"
                },
                {
                    "output_type": "stream",
                    "name": "stdout",
                    "text": "I0614 04:16:29.814174       1 bounded_frequency_runner.go:221] sync-runner: ran, next possible in 0s, periodic in 30s\r\n"
                },
                {
                    "output_type": "stream",
                    "name": "stdout",
                    "text": "I0614 04:16:59.814433       1 proxier.go:701] Syncing iptables rules\r\n"
                },
                {
                    "output_type": "stream",
                    "name": "stdout",
                    "text": "I0614 04:16:59.843472       1 bounded_frequency_runner.go:221] sync-runner: ran, next possible in 0s, periodic in 30s\r\n"
                },
                {
                    "output_type": "stream",
                    "name": "stdout",
                    "text": "I0614 04:17:29.843705       1 proxier.go:701] Syncing iptables rules\r\n"
                },
                {
                    "output_type": "stream",
                    "name": "stdout",
                    "text": "I0614 04:17:29.871751       1 bounded_frequency_runner.go:221] sync-runner: ran, next possible in 0s, periodic in 30s\r\n"
                },
                {
                    "output_type": "stream",
                    "name": "stdout",
                    "text": "I0614 04:17:59.872044       1 proxier.go:701] Syncing iptables rules\r\n"
                },
                {
                    "output_type": "stream",
                    "name": "stdout",
                    "text": "I0614 04:17:59.897906       1 bounded_frequency_runner.go:221] sync-runner: ran, next possible in 0s, periodic in 30s\r\n"
                },
                {
                    "output_type": "stream",
                    "name": "stdout",
                    "text": "I0614 04:18:29.898156       1 proxier.go:701] Syncing iptables rules\r\n"
                },
                {
                    "output_type": "stream",
                    "name": "stdout",
                    "text": "I0614 04:18:29.927543       1 bounded_frequency_runner.go:221] sync-runner: ran, next possible in 0s, periodic in 30s\r\n"
                },
                {
                    "output_type": "stream",
                    "name": "stdout",
                    "text": "I0614 04:18:59.927907       1 proxier.go:701] Syncing iptables rules\r\n"
                },
                {
                    "output_type": "stream",
                    "name": "stdout",
                    "text": "I0614 04:18:59.956602       1 bounded_frequency_runner.go:221] sync-runner: ran, next possible in 0s, periodic in 30s\r\n"
                },
                {
                    "output_type": "stream",
                    "name": "stdout",
                    "text": "I0614 04:19:29.956824       1 proxier.go:701] Syncing iptables rules\r\n"
                },
                {
                    "output_type": "stream",
                    "name": "stdout",
                    "text": "I0614 04:19:29.980810       1 bounded_frequency_runner.go:221] sync-runner: ran, next possible in 0s, periodic in 30s\r\n"
                },
                {
                    "output_type": "stream",
                    "name": "stdout",
                    "text": "I0614 04:19:59.981099       1 proxier.go:701] Syncing iptables rules\r\n"
                },
                {
                    "output_type": "stream",
                    "name": "stdout",
                    "text": "I0614 04:20:00.019025       1 bounded_frequency_runner.go:221] sync-runner: ran, next possible in 0s, periodic in 30s\r\n"
                },
                {
                    "output_type": "stream",
                    "name": "stdout",
                    "text": "I0614 04:20:30.019219       1 proxier.go:701] Syncing iptables rules\r\n"
                },
                {
                    "output_type": "stream",
                    "name": "stdout",
                    "text": "I0614 04:20:30.043680       1 bounded_frequency_runner.go:221] sync-runner: ran, next possible in 0s, periodic in 30s\r\n"
                },
                {
                    "output_type": "stream",
                    "name": "stdout",
                    "text": "I0614 04:21:00.044283       1 proxier.go:701] Syncing iptables rules\r\n"
                },
                {
                    "output_type": "stream",
                    "name": "stdout",
                    "text": "I0614 04:21:00.074431       1 bounded_frequency_runner.go:221] sync-runner: ran, next possible in 0s, periodic in 30s\r\n"
                },
                {
                    "output_type": "stream",
                    "name": "stdout",
                    "text": "I0614 04:21:30.074634       1 proxier.go:701] Syncing iptables rules\r\n"
                },
                {
                    "output_type": "stream",
                    "name": "stdout",
                    "text": "I0614 04:21:30.104330       1 bounded_frequency_runner.go:221] sync-runner: ran, next possible in 0s, periodic in 30s\r\n"
                },
                {
                    "output_type": "stream",
                    "name": "stdout",
                    "text": "I0614 04:22:00.104607       1 proxier.go:701] Syncing iptables rules\r\n"
                },
                {
                    "output_type": "stream",
                    "name": "stdout",
                    "text": "I0614 04:22:00.128957       1 bounded_frequency_runner.go:221] sync-runner: ran, next possible in 0s, periodic in 30s\r\n"
                },
                {
                    "output_type": "stream",
                    "name": "stdout",
                    "text": "I0614 04:22:30.129237       1 proxier.go:701] Syncing iptables rules\r\n"
                },
                {
                    "output_type": "stream",
                    "name": "stdout",
                    "text": "I0614 04:22:30.155708       1 bounded_frequency_runner.go:221] sync-runner: ran, next possible in 0s, periodic in 30s\r\n"
                },
                {
                    "output_type": "stream",
                    "name": "stdout",
                    "text": "I0614 04:23:00.156401       1 proxier.go:701] Syncing iptables rules\r\n"
                },
                {
                    "output_type": "stream",
                    "name": "stdout",
                    "text": "I0614 04:23:00.188255       1 bounded_frequency_runner.go:221] sync-runner: ran, next possible in 0s, periodic in 30s\r\n"
                },
                {
                    "output_type": "stream",
                    "name": "stdout",
                    "text": "I0614 04:23:30.188439       1 proxier.go:701] Syncing iptables rules\r\n"
                },
                {
                    "output_type": "stream",
                    "name": "stdout",
                    "text": "I0614 04:23:30.214098       1 bounded_frequency_runner.go:221] sync-runner: ran, next possible in 0s, periodic in 30s\r\n"
                },
                {
                    "output_type": "stream",
                    "name": "stdout",
                    "text": "I0614 04:24:00.214397       1 proxier.go:701] Syncing iptables rules\r\n"
                },
                {
                    "output_type": "stream",
                    "name": "stdout",
                    "text": "I0614 04:24:00.243170       1 bounded_frequency_runner.go:221] sync-runner: ran, next possible in 0s, periodic in 30s\r\n"
                },
                {
                    "output_type": "stream",
                    "name": "stdout",
                    "text": "I0614 04:24:30.243450       1 proxier.go:701] Syncing iptables rules\r\n"
                },
                {
                    "output_type": "stream",
                    "name": "stdout",
                    "text": "I0614 04:24:30.268914       1 bounded_frequency_runner.go:221] sync-runner: ran, next possible in 0s, periodic in 30s\r\n"
                },
                {
                    "output_type": "stream",
                    "name": "stdout",
                    "text": "I0614 04:25:00.269661       1 proxier.go:701] Syncing iptables rules\r\n"
                },
                {
                    "output_type": "stream",
                    "name": "stdout",
                    "text": "I0614 04:25:00.297809       1 bounded_frequency_runner.go:221] sync-runner: ran, next possible in 0s, periodic in 30s\r\n"
                },
                {
                    "output_type": "stream",
                    "name": "stdout",
                    "text": "I0614 04:25:30.297732       1 proxier.go:701] Syncing iptables rules\r\n"
                },
                {
                    "output_type": "stream",
                    "name": "stdout",
                    "text": "I0614 04:25:30.326039       1 bounded_frequency_runner.go:221] sync-runner: ran, next possible in 0s, periodic in 30s\r\n"
                },
                {
                    "output_type": "stream",
                    "name": "stdout",
                    "text": "I0614 04:26:00.326183       1 proxier.go:701] Syncing iptables rules\r\n"
                },
                {
                    "output_type": "stream",
                    "name": "stdout",
                    "text": "I0614 04:26:00.353922       1 bounded_frequency_runner.go:221] sync-runner: ran, next possible in 0s, periodic in 30s\r\n"
                },
                {
                    "output_type": "stream",
                    "name": "stdout",
                    "text": "I0614 04:26:30.353773       1 proxier.go:701] Syncing iptables rules\r\n"
                },
                {
                    "output_type": "stream",
                    "name": "stdout",
                    "text": "I0614 04:26:30.381126       1 bounded_frequency_runner.go:221] sync-runner: ran, next possible in 0s, periodic in 30s\r\n"
                },
                {
                    "output_type": "stream",
                    "name": "stdout",
                    "text": "I0614 04:27:00.381368       1 proxier.go:701] Syncing iptables rules\r\n"
                },
                {
                    "output_type": "stream",
                    "name": "stdout",
                    "text": "I0614 04:27:00.407516       1 bounded_frequency_runner.go:221] sync-runner: ran, next possible in 0s, periodic in 30s\r\n"
                },
                {
                    "output_type": "stream",
                    "name": "stdout",
                    "text": "I0614 04:27:30.407793       1 proxier.go:701] Syncing iptables rules\r\n"
                },
                {
                    "output_type": "stream",
                    "name": "stdout",
                    "text": "I0614 04:27:30.438329       1 bounded_frequency_runner.go:221] sync-runner: ran, next possible in 0s, periodic in 30s\r\n"
                },
                {
                    "output_type": "stream",
                    "name": "stdout",
                    "text": "I0614 04:28:00.438627       1 proxier.go:701] Syncing iptables rules\r\n"
                },
                {
                    "output_type": "stream",
                    "name": "stdout",
                    "text": "I0614 04:28:00.467525       1 bounded_frequency_runner.go:221] sync-runner: ran, next possible in 0s, periodic in 30s\r\n"
                },
                {
                    "output_type": "stream",
                    "name": "stdout",
                    "text": "I0614 04:28:30.467793       1 proxier.go:701] Syncing iptables rules\r\n"
                },
                {
                    "output_type": "stream",
                    "name": "stdout",
                    "text": "I0614 04:28:30.494185       1 bounded_frequency_runner.go:221] sync-runner: ran, next possible in 0s, periodic in 30s\r\n"
                },
                {
                    "output_type": "stream",
                    "name": "stdout",
                    "text": "I0614 04:29:00.494879       1 proxier.go:701] Syncing iptables rules\r\n"
                },
                {
                    "output_type": "stream",
                    "name": "stdout",
                    "text": "I0614 04:29:00.527302       1 bounded_frequency_runner.go:221] sync-runner: ran, next possible in 0s, periodic in 30s\r\n"
                },
                {
                    "output_type": "stream",
                    "name": "stdout",
                    "text": "I0614 04:29:30.527602       1 proxier.go:701] Syncing iptables rules\r\n"
                },
                {
                    "output_type": "stream",
                    "name": "stdout",
                    "text": "I0614 04:29:30.553920       1 bounded_frequency_runner.go:221] sync-runner: ran, next possible in 0s, periodic in 30s\r\n"
                },
                {
                    "output_type": "stream",
                    "name": "stdout",
                    "text": "I0614 04:30:00.554187       1 proxier.go:701] Syncing iptables rules\r\n"
                },
                {
                    "output_type": "stream",
                    "name": "stdout",
                    "text": "I0614 04:30:00.582045       1 bounded_frequency_runner.go:221] sync-runner: ran, next possible in 0s, periodic in 30s\r\n"
                },
                {
                    "output_type": "stream",
                    "name": "stdout",
                    "text": "I0614 04:30:30.582343       1 proxier.go:701] Syncing iptables rules\r\n"
                },
                {
                    "output_type": "stream",
                    "name": "stdout",
                    "text": "I0614 04:30:30.609142       1 bounded_frequency_runner.go:221] sync-runner: ran, next possible in 0s, periodic in 30s\r\n"
                },
                {
                    "output_type": "stream",
                    "name": "stdout",
                    "text": "I0614 04:30:59.034992       1 endpoints.go:277] Setting endpoints for \"kube-system/kube-dns:dns\" to [10.244.0.5:53 10.244.1.3:53]\r\n"
                },
                {
                    "output_type": "stream",
                    "name": "stdout",
                    "text": "I0614 04:30:59.035089       1 endpoints.go:277] Setting endpoints for \"kube-system/kube-dns:dns-tcp\" to [10.244.0.5:53 10.244.1.3:53]\r\n"
                },
                {
                    "output_type": "stream",
                    "name": "stdout",
                    "text": "I0614 04:30:59.035108       1 endpoints.go:277] Setting endpoints for \"kube-system/kube-dns:dns\" to [10.244.0.5:53 10.244.1.3:53]\r\n"
                },
                {
                    "output_type": "stream",
                    "name": "stdout",
                    "text": "I0614 04:30:59.035116       1 endpoints.go:277] Setting endpoints for \"kube-system/kube-dns:dns-tcp\" to [10.244.0.5:53 10.244.1.3:53]\r\n"
                },
                {
                    "output_type": "stream",
                    "name": "stdout",
                    "text": "I0614 04:30:59.035144       1 endpoints.go:277] Setting endpoints for \"kube-system/metrics-server:\" to [10.244.0.8:443]\r\n"
                },
                {
                    "output_type": "stream",
                    "name": "stdout",
                    "text": "I0614 04:30:59.035154       1 endpoints.go:277] Setting endpoints for \"kube-system/metrics-server:\" to [10.244.0.8:443]\r\n"
                },
                {
                    "output_type": "stream",
                    "name": "stdout",
                    "text": "I0614 04:30:59.035167       1 endpoints.go:277] Setting endpoints for \"kube-system/kubernetes-dashboard:\" to [10.244.0.7:9090]\r\n"
                },
                {
                    "output_type": "stream",
                    "name": "stdout",
                    "text": "I0614 04:30:59.035203       1 endpoints.go:277] Setting endpoints for \"kube-system/kubernetes-dashboard:\" to [10.244.0.7:9090]\r\n"
                },
                {
                    "output_type": "stream",
                    "name": "stdout",
                    "text": "I0614 04:30:59.035234       1 endpoints.go:277] Setting endpoints for \"kube-system/healthmodel-replicaset-service:\" to [10.244.0.6:25227]\r\n"
                },
                {
                    "output_type": "stream",
                    "name": "stdout",
                    "text": "I0614 04:30:59.035325       1 endpoints.go:277] Setting endpoints for \"kube-system/healthmodel-replicaset-service:\" to [10.244.0.6:25227]\r\n"
                },
                {
                    "output_type": "stream",
                    "name": "stdout",
                    "text": "I0614 04:30:59.035404       1 endpoints.go:277] Setting endpoints for \"default/kubernetes:https\" to [52.177.145.11:443]\r\n"
                },
                {
                    "output_type": "stream",
                    "name": "stdout",
                    "text": "I0614 04:30:59.035492       1 endpoints.go:277] Setting endpoints for \"default/kubernetes:https\" to [52.177.145.11:443]\r\n"
                },
                {
                    "output_type": "stream",
                    "name": "stdout",
                    "text": "I0614 04:31:00.609869       1 proxier.go:701] Syncing iptables rules\r\n"
                },
                {
                    "output_type": "stream",
                    "name": "stdout",
                    "text": "I0614 04:31:00.639158       1 bounded_frequency_runner.go:221] sync-runner: ran, next possible in 0s, periodic in 30s\r\n"
                },
                {
                    "output_type": "stream",
                    "name": "stdout",
                    "text": "I0614 04:31:30.639365       1 proxier.go:701] Syncing iptables rules\r\n"
                },
                {
                    "output_type": "stream",
                    "name": "stdout",
                    "text": "I0614 04:31:30.668378       1 bounded_frequency_runner.go:221] sync-runner: ran, next possible in 0s, periodic in 30s\r\n"
                },
                {
                    "output_type": "stream",
                    "name": "stdout",
                    "text": "I0614 04:32:00.668615       1 proxier.go:701] Syncing iptables rules\r\n"
                },
                {
                    "output_type": "stream",
                    "name": "stdout",
                    "text": "I0614 04:32:00.699791       1 bounded_frequency_runner.go:221] sync-runner: ran, next possible in 0s, periodic in 30s\r\n"
                },
                {
                    "output_type": "stream",
                    "name": "stdout",
                    "text": "I0614 04:32:30.699977       1 proxier.go:701] Syncing iptables rules\r\n"
                },
                {
                    "output_type": "stream",
                    "name": "stdout",
                    "text": "I0614 04:32:30.731387       1 bounded_frequency_runner.go:221] sync-runner: ran, next possible in 0s, periodic in 30s\r\n"
                },
                {
                    "output_type": "stream",
                    "name": "stdout",
                    "text": "I0614 04:33:00.731838       1 proxier.go:701] Syncing iptables rules\r\n"
                },
                {
                    "output_type": "stream",
                    "name": "stdout",
                    "text": "I0614 04:33:00.768516       1 bounded_frequency_runner.go:221] sync-runner: ran, next possible in 0s, periodic in 30s\r\n"
                },
                {
                    "output_type": "stream",
                    "name": "stdout",
                    "text": "I0614 04:33:30.768703       1 proxier.go:701] Syncing iptables rules\r\n"
                },
                {
                    "output_type": "stream",
                    "name": "stdout",
                    "text": "I0614 04:33:30.796399       1 bounded_frequency_runner.go:221] sync-runner: ran, next possible in 0s, periodic in 30s\r\n"
                },
                {
                    "output_type": "stream",
                    "name": "stdout",
                    "text": "I0614 04:34:00.796645       1 proxier.go:701] Syncing iptables rules\r\n"
                },
                {
                    "output_type": "stream",
                    "name": "stdout",
                    "text": "I0614 04:34:00.822428       1 bounded_frequency_runner.go:221] sync-runner: ran, next possible in 0s, periodic in 30s\r\n"
                },
                {
                    "output_type": "stream",
                    "name": "stdout",
                    "text": "I0614 04:34:30.822630       1 proxier.go:701] Syncing iptables rules\r\n"
                },
                {
                    "output_type": "stream",
                    "name": "stdout",
                    "text": "I0614 04:34:30.852509       1 bounded_frequency_runner.go:221] sync-runner: ran, next possible in 0s, periodic in 30s\r\n"
                },
                {
                    "output_type": "stream",
                    "name": "stdout",
                    "text": "I0614 04:35:00.852733       1 proxier.go:701] Syncing iptables rules\r\n"
                },
                {
                    "output_type": "stream",
                    "name": "stdout",
                    "text": "I0614 04:35:00.881811       1 bounded_frequency_runner.go:221] sync-runner: ran, next possible in 0s, periodic in 30s\r\n"
                },
                {
                    "output_type": "stream",
                    "name": "stdout",
                    "text": "I0614 04:35:30.882093       1 proxier.go:701] Syncing iptables rules\r\n"
                },
                {
                    "output_type": "stream",
                    "name": "stdout",
                    "text": "I0614 04:35:30.908437       1 bounded_frequency_runner.go:221] sync-runner: ran, next possible in 0s, periodic in 30s\r\n"
                },
                {
                    "output_type": "stream",
                    "name": "stdout",
                    "text": "I0614 04:36:00.908655       1 proxier.go:701] Syncing iptables rules\r\n"
                },
                {
                    "output_type": "stream",
                    "name": "stdout",
                    "text": "I0614 04:36:00.937383       1 bounded_frequency_runner.go:221] sync-runner: ran, next possible in 0s, periodic in 30s\r\n"
                },
                {
                    "output_type": "stream",
                    "name": "stdout",
                    "text": "I0614 04:36:30.937642       1 proxier.go:701] Syncing iptables rules\r\n"
                },
                {
                    "output_type": "stream",
                    "name": "stdout",
                    "text": "I0614 04:36:30.962670       1 bounded_frequency_runner.go:221] sync-runner: ran, next possible in 0s, periodic in 30s\r\n"
                },
                {
                    "output_type": "stream",
                    "name": "stdout",
                    "text": "I0614 04:37:00.963435       1 proxier.go:701] Syncing iptables rules\r\n"
                },
                {
                    "output_type": "stream",
                    "name": "stdout",
                    "text": "I0614 04:37:00.996368       1 bounded_frequency_runner.go:221] sync-runner: ran, next possible in 0s, periodic in 30s\r\n"
                },
                {
                    "output_type": "stream",
                    "name": "stdout",
                    "text": "I0614 04:37:30.996578       1 proxier.go:701] Syncing iptables rules\r\n"
                },
                {
                    "output_type": "stream",
                    "name": "stdout",
                    "text": "I0614 04:37:31.021276       1 bounded_frequency_runner.go:221] sync-runner: ran, next possible in 0s, periodic in 30s\r\n"
                },
                {
                    "output_type": "stream",
                    "name": "stdout",
                    "text": "I0614 04:38:01.021535       1 proxier.go:701] Syncing iptables rules\r\n"
                },
                {
                    "output_type": "stream",
                    "name": "stdout",
                    "text": "I0614 04:38:01.046240       1 bounded_frequency_runner.go:221] sync-runner: ran, next possible in 0s, periodic in 30s\r\n"
                },
                {
                    "output_type": "stream",
                    "name": "stdout",
                    "text": "I0614 04:38:31.046447       1 proxier.go:701] Syncing iptables rules\r\n"
                },
                {
                    "output_type": "stream",
                    "name": "stdout",
                    "text": "I0614 04:38:31.074261       1 bounded_frequency_runner.go:221] sync-runner: ran, next possible in 0s, periodic in 30s\r\n"
                },
                {
                    "output_type": "stream",
                    "name": "stdout",
                    "text": "I0614 04:39:01.074543       1 proxier.go:701] Syncing iptables rules\r\n"
                },
                {
                    "output_type": "stream",
                    "name": "stdout",
                    "text": "I0614 04:39:01.107306       1 bounded_frequency_runner.go:221] sync-runner: ran, next possible in 0s, periodic in 30s\r\n"
                },
                {
                    "output_type": "stream",
                    "name": "stdout",
                    "text": "I0614 04:39:31.107548       1 proxier.go:701] Syncing iptables rules\r\n"
                },
                {
                    "output_type": "stream",
                    "name": "stdout",
                    "text": "I0614 04:39:31.132982       1 bounded_frequency_runner.go:221] sync-runner: ran, next possible in 0s, periodic in 30s\r\n"
                },
                {
                    "output_type": "stream",
                    "name": "stdout",
                    "text": "I0614 04:40:01.133269       1 proxier.go:701] Syncing iptables rules\r\n"
                },
                {
                    "output_type": "stream",
                    "name": "stdout",
                    "text": "I0614 04:40:01.158614       1 bounded_frequency_runner.go:221] sync-runner: ran, next possible in 0s, periodic in 30s\r\n"
                },
                {
                    "output_type": "stream",
                    "name": "stdout",
                    "text": "I0614 04:40:31.158798       1 proxier.go:701] Syncing iptables rules\r\n"
                },
                {
                    "output_type": "stream",
                    "name": "stdout",
                    "text": "I0614 04:40:31.185247       1 bounded_frequency_runner.go:221] sync-runner: ran, next possible in 0s, periodic in 30s\r\n"
                },
                {
                    "output_type": "stream",
                    "name": "stdout",
                    "text": "I0614 04:41:01.185841       1 proxier.go:701] Syncing iptables rules\r\n"
                },
                {
                    "output_type": "stream",
                    "name": "stdout",
                    "text": "I0614 04:41:01.216433       1 bounded_frequency_runner.go:221] sync-runner: ran, next possible in 0s, periodic in 30s\r\n"
                },
                {
                    "output_type": "stream",
                    "name": "stdout",
                    "text": "I0614 04:41:31.216700       1 proxier.go:701] Syncing iptables rules\r\n"
                },
                {
                    "output_type": "stream",
                    "name": "stdout",
                    "text": "I0614 04:41:31.242262       1 bounded_frequency_runner.go:221] sync-runner: ran, next possible in 0s, periodic in 30s\r\n"
                },
                {
                    "output_type": "stream",
                    "name": "stdout",
                    "text": "I0614 04:42:01.242502       1 proxier.go:701] Syncing iptables rules\r\n"
                },
                {
                    "output_type": "stream",
                    "name": "stdout",
                    "text": "I0614 04:42:01.268527       1 bounded_frequency_runner.go:221] sync-runner: ran, next possible in 0s, periodic in 30s\r\n"
                },
                {
                    "output_type": "stream",
                    "name": "stdout",
                    "text": "I0614 04:42:31.268765       1 proxier.go:701] Syncing iptables rules\r\n"
                },
                {
                    "output_type": "stream",
                    "name": "stdout",
                    "text": "I0614 04:42:31.298742       1 bounded_frequency_runner.go:221] sync-runner: ran, next possible in 0s, periodic in 30s\r\n"
                },
                {
                    "output_type": "stream",
                    "name": "stdout",
                    "text": "I0614 04:43:01.299316       1 proxier.go:701] Syncing iptables rules\r\n"
                },
                {
                    "output_type": "stream",
                    "name": "stdout",
                    "text": "I0614 04:43:01.328581       1 bounded_frequency_runner.go:221] sync-runner: ran, next possible in 0s, periodic in 30s\r\n"
                },
                {
                    "output_type": "stream",
                    "name": "stdout",
                    "text": "I0614 04:43:31.328816       1 proxier.go:701] Syncing iptables rules\r\n"
                },
                {
                    "output_type": "stream",
                    "name": "stdout",
                    "text": "I0614 04:43:31.356289       1 bounded_frequency_runner.go:221] sync-runner: ran, next possible in 0s, periodic in 30s\r\n"
                },
                {
                    "output_type": "stream",
                    "name": "stdout",
                    "text": "I0614 04:44:01.356546       1 proxier.go:701] Syncing iptables rules\r\n"
                },
                {
                    "output_type": "stream",
                    "name": "stdout",
                    "text": "I0614 04:44:01.382571       1 bounded_frequency_runner.go:221] sync-runner: ran, next possible in 0s, periodic in 30s\r\n"
                },
                {
                    "output_type": "stream",
                    "name": "stdout",
                    "text": "I0614 04:44:31.382806       1 proxier.go:701] Syncing iptables rules\r\n"
                },
                {
                    "output_type": "stream",
                    "name": "stdout",
                    "text": "I0614 04:44:31.409334       1 bounded_frequency_runner.go:221] sync-runner: ran, next possible in 0s, periodic in 30s\r\n"
                },
                {
                    "output_type": "stream",
                    "name": "stdout",
                    "text": "I0614 04:45:01.409915       1 proxier.go:701] Syncing iptables rules\r\n"
                },
                {
                    "output_type": "stream",
                    "name": "stdout",
                    "text": "I0614 04:45:01.440094       1 bounded_frequency_runner.go:221] sync-runner: ran, next possible in 0s, periodic in 30s\r\n"
                },
                {
                    "output_type": "stream",
                    "name": "stdout",
                    "text": "I0614 04:45:31.440383       1 proxier.go:701] Syncing iptables rules\r\n"
                },
                {
                    "output_type": "stream",
                    "name": "stdout",
                    "text": "I0614 04:45:31.467550       1 bounded_frequency_runner.go:221] sync-runner: ran, next possible in 0s, periodic in 30s\r\n"
                },
                {
                    "output_type": "stream",
                    "name": "stdout",
                    "text": "I0614 04:45:59.035167       1 endpoints.go:277] Setting endpoints for \"kube-system/healthmodel-replicaset-service:\" to [10.244.0.6:25227]\r\n"
                },
                {
                    "output_type": "stream",
                    "name": "stdout",
                    "text": "I0614 04:45:59.035380       1 endpoints.go:277] Setting endpoints for \"kube-system/healthmodel-replicaset-service:\" to [10.244.0.6:25227]\r\n"
                },
                {
                    "output_type": "stream",
                    "name": "stdout",
                    "text": "I0614 04:45:59.035416       1 endpoints.go:277] Setting endpoints for \"default/kubernetes:https\" to [52.177.145.11:443]\r\n"
                },
                {
                    "output_type": "stream",
                    "name": "stdout",
                    "text": "I0614 04:45:59.035425       1 endpoints.go:277] Setting endpoints for \"default/kubernetes:https\" to [52.177.145.11:443]\r\n"
                },
                {
                    "output_type": "stream",
                    "name": "stdout",
                    "text": "I0614 04:45:59.035562       1 endpoints.go:277] Setting endpoints for \"kube-system/kube-dns:dns\" to [10.244.0.5:53 10.244.1.3:53]\r\n"
                },
                {
                    "output_type": "stream",
                    "name": "stdout",
                    "text": "I0614 04:45:59.035645       1 endpoints.go:277] Setting endpoints for \"kube-system/kube-dns:dns-tcp\" to [10.244.0.5:53 10.244.1.3:53]\r\n"
                },
                {
                    "output_type": "stream",
                    "name": "stdout",
                    "text": "I0614 04:45:59.035995       1 endpoints.go:277] Setting endpoints for \"kube-system/kube-dns:dns\" to [10.244.0.5:53 10.244.1.3:53]\r\n"
                },
                {
                    "output_type": "stream",
                    "name": "stdout",
                    "text": "I0614 04:45:59.036075       1 endpoints.go:277] Setting endpoints for \"kube-system/kube-dns:dns-tcp\" to [10.244.0.5:53 10.244.1.3:53]\r\n"
                },
                {
                    "output_type": "stream",
                    "name": "stdout",
                    "text": "I0614 04:45:59.036113       1 endpoints.go:277] Setting endpoints for \"kube-system/metrics-server:\" to [10.244.0.8:443]\r\n"
                },
                {
                    "output_type": "stream",
                    "name": "stdout",
                    "text": "I0614 04:45:59.036182       1 endpoints.go:277] Setting endpoints for \"kube-system/metrics-server:\" to [10.244.0.8:443]\r\n"
                },
                {
                    "output_type": "stream",
                    "name": "stdout",
                    "text": "I0614 04:45:59.036274       1 endpoints.go:277] Setting endpoints for \"kube-system/kubernetes-dashboard:\" to [10.244.0.7:9090]\r\n"
                },
                {
                    "output_type": "stream",
                    "name": "stdout",
                    "text": "I0614 04:45:59.036296       1 endpoints.go:277] Setting endpoints for \"kube-system/kubernetes-dashboard:\" to [10.244.0.7:9090]\r\n"
                },
                {
                    "output_type": "stream",
                    "name": "stdout",
                    "text": "I0614 04:46:01.467815       1 proxier.go:701] Syncing iptables rules\r\n"
                },
                {
                    "output_type": "stream",
                    "name": "stdout",
                    "text": "I0614 04:46:01.497393       1 bounded_frequency_runner.go:221] sync-runner: ran, next possible in 0s, periodic in 30s\r\n"
                },
                {
                    "output_type": "stream",
                    "name": "stdout",
                    "text": "I0614 04:46:31.497652       1 proxier.go:701] Syncing iptables rules\r\n"
                },
                {
                    "output_type": "stream",
                    "name": "stdout",
                    "text": "I0614 04:46:31.523611       1 bounded_frequency_runner.go:221] sync-runner: ran, next possible in 0s, periodic in 30s\r\n"
                },
                {
                    "output_type": "stream",
                    "name": "stdout",
                    "text": "I0614 04:47:01.523899       1 proxier.go:701] Syncing iptables rules\r\n"
                },
                {
                    "output_type": "stream",
                    "name": "stdout",
                    "text": "I0614 04:47:01.551567       1 bounded_frequency_runner.go:221] sync-runner: ran, next possible in 0s, periodic in 30s\r\n"
                },
                {
                    "output_type": "stream",
                    "name": "stdout",
                    "text": "I0614 04:47:31.551827       1 proxier.go:701] Syncing iptables rules\r\n"
                },
                {
                    "output_type": "stream",
                    "name": "stdout",
                    "text": "I0614 04:47:31.578437       1 bounded_frequency_runner.go:221] sync-runner: ran, next possible in 0s, periodic in 30s\r\n"
                },
                {
                    "output_type": "stream",
                    "name": "stdout",
                    "text": "I0614 04:48:01.578690       1 proxier.go:701] Syncing iptables rules\r\n"
                },
                {
                    "output_type": "stream",
                    "name": "stdout",
                    "text": "I0614 04:48:01.607722       1 bounded_frequency_runner.go:221] sync-runner: ran, next possible in 0s, periodic in 30s\r\n"
                },
                {
                    "output_type": "stream",
                    "name": "stdout",
                    "text": "I0614 04:48:31.608068       1 proxier.go:701] Syncing iptables rules\r\n"
                },
                {
                    "output_type": "stream",
                    "name": "stdout",
                    "text": "I0614 04:48:31.636259       1 bounded_frequency_runner.go:221] sync-runner: ran, next possible in 0s, periodic in 30s\r\n"
                },
                {
                    "output_type": "stream",
                    "name": "stdout",
                    "text": "I0614 04:49:01.636464       1 proxier.go:701] Syncing iptables rules\r\n"
                },
                {
                    "output_type": "stream",
                    "name": "stdout",
                    "text": "I0614 04:49:01.674157       1 bounded_frequency_runner.go:221] sync-runner: ran, next possible in 0s, periodic in 30s\r\n"
                },
                {
                    "output_type": "stream",
                    "name": "stdout",
                    "text": "I0614 04:49:31.674380       1 proxier.go:701] Syncing iptables rules\r\n"
                },
                {
                    "output_type": "stream",
                    "name": "stdout",
                    "text": "I0614 04:49:31.699911       1 bounded_frequency_runner.go:221] sync-runner: ran, next possible in 0s, periodic in 30s\r\n"
                },
                {
                    "output_type": "stream",
                    "name": "stdout",
                    "text": "I0614 04:50:01.700194       1 proxier.go:701] Syncing iptables rules\r\n"
                },
                {
                    "output_type": "stream",
                    "name": "stdout",
                    "text": "I0614 04:50:01.727822       1 bounded_frequency_runner.go:221] sync-runner: ran, next possible in 0s, periodic in 30s\r\n"
                },
                {
                    "output_type": "stream",
                    "name": "stdout",
                    "text": "I0614 04:50:31.728114       1 proxier.go:701] Syncing iptables rules\r\n"
                },
                {
                    "output_type": "stream",
                    "name": "stdout",
                    "text": "I0614 04:50:31.755067       1 bounded_frequency_runner.go:221] sync-runner: ran, next possible in 0s, periodic in 30s\r\n"
                },
                {
                    "output_type": "stream",
                    "name": "stdout",
                    "text": "I0614 04:51:01.755622       1 proxier.go:701] Syncing iptables rules\r\n"
                },
                {
                    "output_type": "stream",
                    "name": "stdout",
                    "text": "I0614 04:51:01.788506       1 bounded_frequency_runner.go:221] sync-runner: ran, next possible in 0s, periodic in 30s\r\n"
                },
                {
                    "output_type": "stream",
                    "name": "stdout",
                    "text": "I0614 04:51:31.788729       1 proxier.go:701] Syncing iptables rules\r\n"
                },
                {
                    "output_type": "stream",
                    "name": "stdout",
                    "text": "I0614 04:51:31.815886       1 bounded_frequency_runner.go:221] sync-runner: ran, next possible in 0s, periodic in 30s\r\n"
                },
                {
                    "output_type": "stream",
                    "name": "stdout",
                    "text": "I0614 04:52:01.816131       1 proxier.go:701] Syncing iptables rules\r\n"
                },
                {
                    "output_type": "stream",
                    "name": "stdout",
                    "text": "I0614 04:52:01.850148       1 bounded_frequency_runner.go:221] sync-runner: ran, next possible in 0s, periodic in 30s\r\n"
                },
                {
                    "output_type": "stream",
                    "name": "stdout",
                    "text": "I0614 04:52:31.850451       1 proxier.go:701] Syncing iptables rules\r\n"
                },
                {
                    "output_type": "stream",
                    "name": "stdout",
                    "text": "I0614 04:52:31.876000       1 bounded_frequency_runner.go:221] sync-runner: ran, next possible in 0s, periodic in 30s\r\n"
                },
                {
                    "output_type": "stream",
                    "name": "stdout",
                    "text": "I0614 04:53:01.876687       1 proxier.go:701] Syncing iptables rules\r\n"
                },
                {
                    "output_type": "stream",
                    "name": "stdout",
                    "text": "I0614 04:53:01.912191       1 bounded_frequency_runner.go:221] sync-runner: ran, next possible in 0s, periodic in 30s\r\n"
                },
                {
                    "output_type": "stream",
                    "name": "stdout",
                    "text": "I0614 04:53:31.912415       1 proxier.go:701] Syncing iptables rules\r\n"
                },
                {
                    "output_type": "stream",
                    "name": "stdout",
                    "text": "I0614 04:53:31.938753       1 bounded_frequency_runner.go:221] sync-runner: ran, next possible in 0s, periodic in 30s\r\n"
                },
                {
                    "output_type": "stream",
                    "name": "stdout",
                    "text": "I0614 04:54:01.939025       1 proxier.go:701] Syncing iptables rules\r\n"
                },
                {
                    "output_type": "stream",
                    "name": "stdout",
                    "text": "I0614 04:54:01.970985       1 bounded_frequency_runner.go:221] sync-runner: ran, next possible in 0s, periodic in 30s\r\n"
                },
                {
                    "output_type": "stream",
                    "name": "stdout",
                    "text": "I0614 04:54:31.971167       1 proxier.go:701] Syncing iptables rules\r\n"
                },
                {
                    "output_type": "stream",
                    "name": "stdout",
                    "text": "I0614 04:54:31.996962       1 bounded_frequency_runner.go:221] sync-runner: ran, next possible in 0s, periodic in 30s\r\n"
                },
                {
                    "output_type": "stream",
                    "name": "stdout",
                    "text": "I0614 04:55:01.997181       1 proxier.go:701] Syncing iptables rules\r\n"
                },
                {
                    "output_type": "stream",
                    "name": "stdout",
                    "text": "I0614 04:55:02.038316       1 bounded_frequency_runner.go:221] sync-runner: ran, next possible in 0s, periodic in 30s\r\n"
                },
                {
                    "output_type": "stream",
                    "name": "stdout",
                    "text": "I0614 04:55:32.038580       1 proxier.go:701] Syncing iptables rules\r\n"
                },
                {
                    "output_type": "stream",
                    "name": "stdout",
                    "text": "I0614 04:55:32.065979       1 bounded_frequency_runner.go:221] sync-runner: ran, next possible in 0s, periodic in 30s\r\n"
                },
                {
                    "output_type": "stream",
                    "name": "stdout",
                    "text": "I0614 04:56:02.066278       1 proxier.go:701] Syncing iptables rules\r\n"
                },
                {
                    "output_type": "stream",
                    "name": "stdout",
                    "text": "I0614 04:56:02.093459       1 bounded_frequency_runner.go:221] sync-runner: ran, next possible in 0s, periodic in 30s\r\n"
                },
                {
                    "output_type": "stream",
                    "name": "stdout",
                    "text": "I0614 04:56:32.093700       1 proxier.go:701] Syncing iptables rules\r\n"
                },
                {
                    "output_type": "stream",
                    "name": "stdout",
                    "text": "I0614 04:56:32.121165       1 bounded_frequency_runner.go:221] sync-runner: ran, next possible in 0s, periodic in 30s\r\n"
                },
                {
                    "output_type": "stream",
                    "name": "stdout",
                    "text": "I0614 04:57:02.121423       1 proxier.go:701] Syncing iptables rules\r\n"
                },
                {
                    "output_type": "stream",
                    "name": "stdout",
                    "text": "I0614 04:57:02.155717       1 bounded_frequency_runner.go:221] sync-runner: ran, next possible in 0s, periodic in 30s\r\n"
                },
                {
                    "output_type": "stream",
                    "name": "stdout",
                    "text": "I0614 04:57:32.155854       1 proxier.go:701] Syncing iptables rules\r\n"
                },
                {
                    "output_type": "stream",
                    "name": "stdout",
                    "text": "I0614 04:57:32.184561       1 bounded_frequency_runner.go:221] sync-runner: ran, next possible in 0s, periodic in 30s\r\n"
                },
                {
                    "output_type": "stream",
                    "name": "stdout",
                    "text": "I0614 04:58:02.184843       1 proxier.go:701] Syncing iptables rules\r\n"
                },
                {
                    "output_type": "stream",
                    "name": "stdout",
                    "text": "I0614 04:58:02.214346       1 bounded_frequency_runner.go:221] sync-runner: ran, next possible in 0s, periodic in 30s\r\n"
                },
                {
                    "output_type": "stream",
                    "name": "stdout",
                    "text": "I0614 04:58:32.214593       1 proxier.go:701] Syncing iptables rules\r\n"
                },
                {
                    "output_type": "stream",
                    "name": "stdout",
                    "text": "I0614 04:58:32.241100       1 bounded_frequency_runner.go:221] sync-runner: ran, next possible in 0s, periodic in 30s\r\n"
                },
                {
                    "output_type": "stream",
                    "name": "stdout",
                    "text": "I0614 04:59:02.241357       1 proxier.go:701] Syncing iptables rules\r\n"
                },
                {
                    "output_type": "stream",
                    "name": "stdout",
                    "text": "I0614 04:59:02.272485       1 bounded_frequency_runner.go:221] sync-runner: ran, next possible in 0s, periodic in 30s\r\n"
                },
                {
                    "output_type": "stream",
                    "name": "stdout",
                    "text": "I0614 04:59:32.272740       1 proxier.go:701] Syncing iptables rules\r\n"
                },
                {
                    "output_type": "stream",
                    "name": "stdout",
                    "text": "I0614 04:59:32.299639       1 bounded_frequency_runner.go:221] sync-runner: ran, next possible in 0s, periodic in 30s\r\n"
                },
                {
                    "output_type": "stream",
                    "name": "stdout",
                    "text": "I0614 05:00:02.299884       1 proxier.go:701] Syncing iptables rules\r\n"
                },
                {
                    "output_type": "stream",
                    "name": "stdout",
                    "text": "I0614 05:00:02.325402       1 bounded_frequency_runner.go:221] sync-runner: ran, next possible in 0s, periodic in 30s\r\n"
                },
                {
                    "output_type": "stream",
                    "name": "stdout",
                    "text": "I0614 05:00:32.325649       1 proxier.go:701] Syncing iptables rules\r\n"
                },
                {
                    "output_type": "stream",
                    "name": "stdout",
                    "text": "I0614 05:00:32.351844       1 bounded_frequency_runner.go:221] sync-runner: ran, next possible in 0s, periodic in 30s\r\n"
                },
                {
                    "output_type": "stream",
                    "name": "stdout",
                    "text": "I0614 05:00:59.035405       1 endpoints.go:277] Setting endpoints for \"kube-system/healthmodel-replicaset-service:\" to [10.244.0.6:25227]\r\n"
                },
                {
                    "output_type": "stream",
                    "name": "stdout",
                    "text": "I0614 05:00:59.035472       1 endpoints.go:277] Setting endpoints for \"kube-system/healthmodel-replicaset-service:\" to [10.244.0.6:25227]\r\n"
                },
                {
                    "output_type": "stream",
                    "name": "stdout",
                    "text": "I0614 05:00:59.035492       1 endpoints.go:277] Setting endpoints for \"default/kubernetes:https\" to [52.177.145.11:443]\r\n"
                },
                {
                    "output_type": "stream",
                    "name": "stdout",
                    "text": "I0614 05:00:59.035500       1 endpoints.go:277] Setting endpoints for \"default/kubernetes:https\" to [52.177.145.11:443]\r\n"
                },
                {
                    "output_type": "stream",
                    "name": "stdout",
                    "text": "I0614 05:00:59.035518       1 endpoints.go:277] Setting endpoints for \"kube-system/kube-dns:dns\" to [10.244.0.5:53 10.244.1.3:53]\r\n"
                },
                {
                    "output_type": "stream",
                    "name": "stdout",
                    "text": "I0614 05:00:59.035541       1 endpoints.go:277] Setting endpoints for \"kube-system/kube-dns:dns-tcp\" to [10.244.0.5:53 10.244.1.3:53]\r\n"
                },
                {
                    "output_type": "stream",
                    "name": "stdout",
                    "text": "I0614 05:00:59.035552       1 endpoints.go:277] Setting endpoints for \"kube-system/kube-dns:dns\" to [10.244.0.5:53 10.244.1.3:53]\r\n"
                },
                {
                    "output_type": "stream",
                    "name": "stdout",
                    "text": "I0614 05:00:59.035561       1 endpoints.go:277] Setting endpoints for \"kube-system/kube-dns:dns-tcp\" to [10.244.0.5:53 10.244.1.3:53]\r\n"
                },
                {
                    "output_type": "stream",
                    "name": "stdout",
                    "text": "I0614 05:00:59.035800       1 endpoints.go:277] Setting endpoints for \"kube-system/metrics-server:\" to [10.244.0.8:443]\r\n"
                },
                {
                    "output_type": "stream",
                    "name": "stdout",
                    "text": "I0614 05:00:59.035931       1 endpoints.go:277] Setting endpoints for \"kube-system/metrics-server:\" to [10.244.0.8:443]\r\n"
                },
                {
                    "output_type": "stream",
                    "name": "stdout",
                    "text": "I0614 05:00:59.035967       1 endpoints.go:277] Setting endpoints for \"kube-system/kubernetes-dashboard:\" to [10.244.0.7:9090]\r\n"
                },
                {
                    "output_type": "stream",
                    "name": "stdout",
                    "text": "I0614 05:00:59.035984       1 endpoints.go:277] Setting endpoints for \"kube-system/kubernetes-dashboard:\" to [10.244.0.7:9090]\r\n"
                },
                {
                    "output_type": "stream",
                    "name": "stdout",
                    "text": "I0614 05:01:02.352505       1 proxier.go:701] Syncing iptables rules\r\n"
                },
                {
                    "output_type": "stream",
                    "name": "stdout",
                    "text": "I0614 05:01:02.388924       1 bounded_frequency_runner.go:221] sync-runner: ran, next possible in 0s, periodic in 30s\r\n"
                },
                {
                    "output_type": "stream",
                    "name": "stdout",
                    "text": "I0614 05:01:32.389152       1 proxier.go:701] Syncing iptables rules\r\n"
                },
                {
                    "output_type": "stream",
                    "name": "stdout",
                    "text": "I0614 05:01:32.420993       1 bounded_frequency_runner.go:221] sync-runner: ran, next possible in 0s, periodic in 30s\r\n"
                },
                {
                    "output_type": "stream",
                    "name": "stdout",
                    "text": "I0614 05:02:02.421155       1 proxier.go:701] Syncing iptables rules\r\n"
                },
                {
                    "output_type": "stream",
                    "name": "stdout",
                    "text": "I0614 05:02:02.449536       1 bounded_frequency_runner.go:221] sync-runner: ran, next possible in 0s, periodic in 30s\r\n"
                },
                {
                    "output_type": "stream",
                    "name": "stdout",
                    "text": "I0614 05:02:32.449751       1 proxier.go:701] Syncing iptables rules\r\n"
                },
                {
                    "output_type": "stream",
                    "name": "stdout",
                    "text": "I0614 05:02:32.476377       1 bounded_frequency_runner.go:221] sync-runner: ran, next possible in 0s, periodic in 30s\r\n"
                },
                {
                    "output_type": "stream",
                    "name": "stdout",
                    "text": "I0614 05:03:02.477252       1 proxier.go:701] Syncing iptables rules\r\n"
                },
                {
                    "output_type": "stream",
                    "name": "stdout",
                    "text": "I0614 05:03:02.506125       1 bounded_frequency_runner.go:221] sync-runner: ran, next possible in 0s, periodic in 30s\r\n"
                },
                {
                    "output_type": "stream",
                    "name": "stdout",
                    "text": "I0614 05:03:32.506337       1 proxier.go:701] Syncing iptables rules\r\n"
                },
                {
                    "output_type": "stream",
                    "name": "stdout",
                    "text": "I0614 05:03:32.531542       1 bounded_frequency_runner.go:221] sync-runner: ran, next possible in 0s, periodic in 30s\r\n"
                },
                {
                    "output_type": "stream",
                    "name": "stdout",
                    "text": "I0614 05:04:02.531781       1 proxier.go:701] Syncing iptables rules\r\n"
                },
                {
                    "output_type": "stream",
                    "name": "stdout",
                    "text": "I0614 05:04:02.560662       1 bounded_frequency_runner.go:221] sync-runner: ran, next possible in 0s, periodic in 30s\r\n"
                },
                {
                    "output_type": "stream",
                    "name": "stdout",
                    "text": "I0614 05:04:32.560909       1 proxier.go:701] Syncing iptables rules\r\n"
                },
                {
                    "output_type": "stream",
                    "name": "stdout",
                    "text": "I0614 05:04:32.587283       1 bounded_frequency_runner.go:221] sync-runner: ran, next possible in 0s, periodic in 30s\r\n"
                },
                {
                    "output_type": "stream",
                    "name": "stdout",
                    "text": "I0614 05:05:02.587947       1 proxier.go:701] Syncing iptables rules\r\n"
                },
                {
                    "output_type": "stream",
                    "name": "stdout",
                    "text": "I0614 05:05:02.618913       1 bounded_frequency_runner.go:221] sync-runner: ran, next possible in 0s, periodic in 30s\r\n"
                },
                {
                    "output_type": "stream",
                    "name": "stdout",
                    "text": "I0614 05:05:32.619110       1 proxier.go:701] Syncing iptables rules\r\n"
                },
                {
                    "output_type": "stream",
                    "name": "stdout",
                    "text": "I0614 05:05:32.657452       1 bounded_frequency_runner.go:221] sync-runner: ran, next possible in 0s, periodic in 30s\r\n"
                },
                {
                    "output_type": "stream",
                    "name": "stdout",
                    "text": "I0614 05:06:02.657718       1 proxier.go:701] Syncing iptables rules\r\n"
                },
                {
                    "output_type": "stream",
                    "name": "stdout",
                    "text": "I0614 05:06:02.686159       1 bounded_frequency_runner.go:221] sync-runner: ran, next possible in 0s, periodic in 30s\r\n"
                },
                {
                    "output_type": "stream",
                    "name": "stdout",
                    "text": "I0614 05:06:32.686348       1 proxier.go:701] Syncing iptables rules\r\n"
                },
                {
                    "output_type": "stream",
                    "name": "stdout",
                    "text": "I0614 05:06:32.711975       1 bounded_frequency_runner.go:221] sync-runner: ran, next possible in 0s, periodic in 30s\r\n"
                },
                {
                    "output_type": "stream",
                    "name": "stdout",
                    "text": "I0614 05:07:02.712466       1 proxier.go:701] Syncing iptables rules\r\n"
                },
                {
                    "output_type": "stream",
                    "name": "stdout",
                    "text": "I0614 05:07:02.741184       1 bounded_frequency_runner.go:221] sync-runner: ran, next possible in 0s, periodic in 30s\r\n"
                },
                {
                    "output_type": "stream",
                    "name": "stdout",
                    "text": "I0614 05:07:32.741458       1 proxier.go:701] Syncing iptables rules\r\n"
                },
                {
                    "output_type": "stream",
                    "name": "stdout",
                    "text": "I0614 05:07:32.767120       1 bounded_frequency_runner.go:221] sync-runner: ran, next possible in 0s, periodic in 30s\r\n"
                },
                {
                    "output_type": "stream",
                    "name": "stdout",
                    "text": "I0614 05:08:02.767381       1 proxier.go:701] Syncing iptables rules\r\n"
                },
                {
                    "output_type": "stream",
                    "name": "stdout",
                    "text": "I0614 05:08:02.793936       1 bounded_frequency_runner.go:221] sync-runner: ran, next possible in 0s, periodic in 30s\r\n"
                },
                {
                    "output_type": "stream",
                    "name": "stdout",
                    "text": "I0614 05:08:32.794155       1 proxier.go:701] Syncing iptables rules\r\n"
                },
                {
                    "output_type": "stream",
                    "name": "stdout",
                    "text": "I0614 05:08:32.820619       1 bounded_frequency_runner.go:221] sync-runner: ran, next possible in 0s, periodic in 30s\r\n"
                },
                {
                    "output_type": "stream",
                    "name": "stdout",
                    "text": "I0614 05:09:02.820915       1 proxier.go:701] Syncing iptables rules\r\n"
                },
                {
                    "output_type": "stream",
                    "name": "stdout",
                    "text": "I0614 05:09:02.849027       1 bounded_frequency_runner.go:221] sync-runner: ran, next possible in 0s, periodic in 30s\r\n"
                },
                {
                    "output_type": "stream",
                    "name": "stdout",
                    "text": "I0614 05:09:32.849257       1 proxier.go:701] Syncing iptables rules\r\n"
                },
                {
                    "output_type": "stream",
                    "name": "stdout",
                    "text": "I0614 05:09:32.873479       1 bounded_frequency_runner.go:221] sync-runner: ran, next possible in 0s, periodic in 30s\r\n"
                },
                {
                    "output_type": "stream",
                    "name": "stdout",
                    "text": "I0614 05:10:02.873807       1 proxier.go:701] Syncing iptables rules\r\n"
                },
                {
                    "output_type": "stream",
                    "name": "stdout",
                    "text": "I0614 05:10:02.901827       1 bounded_frequency_runner.go:221] sync-runner: ran, next possible in 0s, periodic in 30s\r\n"
                },
                {
                    "output_type": "stream",
                    "name": "stdout",
                    "text": "I0614 05:10:32.902049       1 proxier.go:701] Syncing iptables rules\r\n"
                },
                {
                    "output_type": "stream",
                    "name": "stdout",
                    "text": "I0614 05:10:32.929360       1 bounded_frequency_runner.go:221] sync-runner: ran, next possible in 0s, periodic in 30s\r\n"
                },
                {
                    "output_type": "stream",
                    "name": "stdout",
                    "text": "I0614 05:11:02.929591       1 proxier.go:701] Syncing iptables rules\r\n"
                },
                {
                    "output_type": "stream",
                    "name": "stdout",
                    "text": "I0614 05:11:02.959940       1 bounded_frequency_runner.go:221] sync-runner: ran, next possible in 0s, periodic in 30s\r\n"
                },
                {
                    "output_type": "stream",
                    "name": "stdout",
                    "text": "I0614 05:11:32.960196       1 proxier.go:701] Syncing iptables rules\r\n"
                },
                {
                    "output_type": "stream",
                    "name": "stdout",
                    "text": "I0614 05:11:32.986738       1 bounded_frequency_runner.go:221] sync-runner: ran, next possible in 0s, periodic in 30s\r\n"
                },
                {
                    "output_type": "stream",
                    "name": "stdout",
                    "text": "I0614 05:12:02.987014       1 proxier.go:701] Syncing iptables rules\r\n"
                },
                {
                    "output_type": "stream",
                    "name": "stdout",
                    "text": "I0614 05:12:03.015332       1 bounded_frequency_runner.go:221] sync-runner: ran, next possible in 0s, periodic in 30s\r\n"
                },
                {
                    "output_type": "stream",
                    "name": "stdout",
                    "text": "I0614 05:12:33.015636       1 proxier.go:701] Syncing iptables rules\r\n"
                },
                {
                    "output_type": "stream",
                    "name": "stdout",
                    "text": "I0614 05:12:33.045120       1 bounded_frequency_runner.go:221] sync-runner: ran, next possible in 0s, periodic in 30s\r\n"
                },
                {
                    "output_type": "stream",
                    "name": "stdout",
                    "text": "I0614 05:13:03.045351       1 proxier.go:701] Syncing iptables rules\r\n"
                },
                {
                    "output_type": "stream",
                    "name": "stdout",
                    "text": "I0614 05:13:03.072838       1 bounded_frequency_runner.go:221] sync-runner: ran, next possible in 0s, periodic in 30s\r\n"
                },
                {
                    "output_type": "stream",
                    "name": "stdout",
                    "text": "\r\n"
                }
            ],
            "execution_count": 24
        }
    ]
}